{
 "cells": [
  {
   "cell_type": "code",
   "execution_count": 1,
   "metadata": {},
   "outputs": [],
   "source": [
    "import ee,os\n",
    "import geemap"
   ]
  },
  {
   "cell_type": "code",
   "execution_count": 2,
   "metadata": {},
   "outputs": [
    {
     "data": {
      "application/vnd.jupyter.widget-view+json": {
       "model_id": "7c3511cd06ad46ee811c73f0f3224a57",
       "version_major": 2,
       "version_minor": 0
      },
      "text/plain": [
       "Map(center=[30, 110], controls=(WidgetControl(options=['position', 'transparent_bg'], widget=HBox(children=(To…"
      ]
     },
     "metadata": {},
     "output_type": "display_data"
    }
   ],
   "source": [
    "os.environ['HTTP_PROXY'] = 'http://127.0.0.1:7890'\n",
    "os.environ['HTTPS_PROXY'] = 'http://127.0.0.1:7890'\n",
    "ee.Initialize()\n",
    "\n",
    "Map = geemap.Map(center = [30, 110], zoom = 7)\n",
    "Map"
   ]
  },
  {
   "cell_type": "code",
   "execution_count": 3,
   "metadata": {},
   "outputs": [],
   "source": [
    "Np = ee.FeatureCollection(\"users/wufvckshuo/Nepal_Boundary\")\n",
    "ROI = ee.FeatureCollection(\"users/wufvckshuo/QingJiang\")\n",
    "Np = ROI\n",
    "L7 = ee.ImageCollection(\"LANDSAT/LE07/C01/T1_SR\")\n",
    "# L7 = ee.ImageCollection(\"LANDSAT/LC08/C01/T1_SR\")\n",
    "\n",
    "LULC = ee.ImageCollection(\"projects/sat-io/open-datasets/landcover/ESRI_Global-LULC_10m\")\n",
    "DEM = ee.Image(\"USGS/SRTMGL1_003\")\n",
    "L7_vis = {\"opacity\":1,\"bands\":[\"B4\",\"B3\",\"B2\"],\"min\":220,\"max\":19660,\"gamma\":1}\n",
    "\n",
    "L7_np = L7.filterDate('2001-01-01', '2001-12-31') \\\n",
    ".filterBounds(Np) \\\n",
    ".filterMetadata(\"CLOUD_COVER\", 'less_than', 10) \\\n",
    ".sort('CLOUD_COVER',False)"
   ]
  },
  {
   "cell_type": "code",
   "execution_count": 4,
   "metadata": {},
   "outputs": [],
   "source": [
    "mergedL7 = L7_np.median().clip(Np)\n",
    "\n",
    "# Map.addLayer(mergedL7, L7_vis, \"Landsat 7\")\n",
    "# Map.addLayer(LULC_icimod, LULC_vis, \"LULC icimod\")\n",
    "\n",
    "b2 = mergedL7.select(\"B2\")\n",
    "b3 = mergedL7.select(\"B3\")\n",
    "b4 = mergedL7.select(\"B4\")\n",
    "b5 = mergedL7.select(\"B5\")\n",
    "NDVI = b4.subtract(b3).divide(b4.add(b3)).rename(\"NDVI\")\n",
    "NDBI = b5.subtract(b4).divide(b5.add(b4)).rename(\"NDBI\")\n",
    "NDWI = b4.subtract(b5).divide(b5.add(b4)).rename(\"NDWI\")\n",
    "MNDWI = b2.subtract(b5).divide(b2.add(b5)).rename(\"MNDWI\")\n",
    "DEM_nepal = DEM.clip(Np)"
   ]
  },
  {
   "cell_type": "code",
   "execution_count": 5,
   "metadata": {},
   "outputs": [],
   "source": [
    "addedNepal = mergedL7"
   ]
  },
  {
   "cell_type": "code",
   "execution_count": 6,
   "metadata": {},
   "outputs": [],
   "source": [
    "exportBands = mergedL7.select(\"B1\").addBands(mergedL7.select(\"B2\")) \\\n",
    ".addBands(mergedL7.select(\"B3\")) \\\n",
    ".addBands(mergedL7.select(\"B4\")) \\\n",
    ".addBands(mergedL7.select(\"B5\")) \\\n",
    ".addBands(mergedL7.select(\"B6\")) \\\n",
    ".addBands(mergedL7.select(\"B7\")) \\\n",
    ".addBands(NDVI.select(\"NDVI\")) \\\n",
    ".addBands(NDBI.select(\"NDBI\")) \\\n",
    ".addBands(NDWI.select(\"NDWI\"))\\\n",
    ".addBands(MNDWI.select(\"MNDWI\"))\\\n",
    ".addBands(DEM_nepal) \\\n",
    ".addBands(LULC.first().select(\"b1\").rename(\"LULC\"))"
   ]
  },
  {
   "cell_type": "code",
   "execution_count": 7,
   "metadata": {},
   "outputs": [],
   "source": [
    "# MAKE SURE ASSET OF RANDOM FOREST <10.4MB is uploaded"
   ]
  },
  {
   "cell_type": "code",
   "execution_count": 8,
   "metadata": {},
   "outputs": [],
   "source": [
    "from geemap import ml"
   ]
  },
  {
   "cell_type": "code",
   "execution_count": 12,
   "metadata": {},
   "outputs": [],
   "source": [
    "# read the exported tree feature collection\n",
    "rf_fc = ee.FeatureCollection(\"users/wufvckshuo/random_forest_strings_test\")\n",
    "\n",
    "# rf_fc = ee.FeatureCollection(\"users/wufvckshuo/samplingPoints_ZDQ\")\n",
    "\n",
    "# convert it to a classifier, very similar to the `ml.trees_to_classifier` function\n",
    "another_classifier = ml.fc_to_classifier(rf_fc)"
   ]
  },
  {
   "cell_type": "code",
   "execution_count": 13,
   "metadata": {},
   "outputs": [],
   "source": [
    "# feature names\n",
    "feature_names = ['B1', 'B2', 'B3', 'B4', 'B5', 'B6', 'B7', 'NDWI', 'NDVI', 'MNDWI', 'NDBI', 'elevation']\n",
    "\n",
    "# classify the image again but with the classifier from the persisted trees\n",
    "classified = exportBands.select(feature_names).classify(another_classifier)"
   ]
  },
  {
   "cell_type": "code",
   "execution_count": 14,
   "metadata": {},
   "outputs": [],
   "source": [
    "Map.addLayer(classified, {\"min\": 0, \"max\": 6, \"palette\": ['red', 'green', 'blue']},'classification')"
   ]
  },
  {
   "cell_type": "code",
   "execution_count": 15,
   "metadata": {},
   "outputs": [
    {
     "data": {
      "application/vnd.jupyter.widget-view+json": {
       "model_id": "7c3511cd06ad46ee811c73f0f3224a57",
       "version_major": 2,
       "version_minor": 0
      },
      "text/plain": [
       "Map(bottom=13819.0, center=[30, 110], controls=(WidgetControl(options=['position', 'transparent_bg'], widget=H…"
      ]
     },
     "metadata": {},
     "output_type": "display_data"
    }
   ],
   "source": [
    "Map"
   ]
  },
  {
   "cell_type": "code",
   "execution_count": 16,
   "metadata": {},
   "outputs": [
    {
     "name": "stdout",
     "output_type": "stream",
     "text": [
      "Exporting LULC_MAP_2020_COMP_proper_CLASS ...\n"
     ]
    }
   ],
   "source": [
    "geemap.ee_export_image_to_drive(classified, description='LULC_MAP_2020_COMP_proper_CLASS', folder='GEE export folder', region=Np.geometry(), file_format='GeoTIFF', format_options={'cloudOptimized': True}, scale=30)\n"
   ]
  },
  {
   "cell_type": "code",
   "execution_count": 17,
   "metadata": {},
   "outputs": [
    {
     "name": "stdout",
     "output_type": "stream",
     "text": [
      "Generating URL ...\n",
      "Downloading data from https://earthengine.googleapis.com/v1alpha/projects/earthengine-legacy/thumbnails/7139b06118f0e2ff50ce6fac93feca17-7a82de5c294e7125b510240ba05044a5:getPixels\n",
      "Please wait ...\n",
      "Data downloaded to e:\\Work\\LULC-icimod\\LULC_MAP_2020.tif\n"
     ]
    }
   ],
   "source": [
    "geemap.ee_export_image(classified, filename=\"LULC_MAP_2020.tif\", region=Np.geometry(), scale=500)\n"
   ]
  },
  {
   "cell_type": "code",
   "execution_count": null,
   "metadata": {},
   "outputs": [],
   "source": []
  },
  {
   "cell_type": "code",
   "execution_count": null,
   "metadata": {},
   "outputs": [],
   "source": []
  }
 ],
 "metadata": {
  "interpreter": {
   "hash": "b3ba2566441a7c06988d0923437866b63cedc61552a5af99d1f4fb67d367b25f"
  },
  "kernelspec": {
   "display_name": "Python 3.8.8 64-bit ('base': conda)",
   "name": "python3"
  },
  "language_info": {
   "codemirror_mode": {
    "name": "ipython",
    "version": 3
   },
   "file_extension": ".py",
   "mimetype": "text/x-python",
   "name": "python",
   "nbconvert_exporter": "python",
   "pygments_lexer": "ipython3",
   "version": "3.8.8"
  }
 },
 "nbformat": 4,
 "nbformat_minor": 5
}
