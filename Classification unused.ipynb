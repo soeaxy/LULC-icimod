{
 "cells": [
  {
   "cell_type": "markdown",
   "metadata": {},
   "source": [
    "# Import data simply and store in a list of list"
   ]
  },
  {
   "cell_type": "code",
   "execution_count": 1,
   "metadata": {},
   "outputs": [],
   "source": [
    "classes = {1: \"Forests\",\n",
    "          2: \"Open Forests\",\n",
    "          3: \"Bare slopes\",\n",
    "          4: \"Agriculture\",\n",
    "          5: \"Sandy Region\",\n",
    "          6: \"Water\",\n",
    "          7: \"Ice cover\",\n",
    "          8: \"Settlement\"}"
   ]
  },
  {
   "cell_type": "code",
   "execution_count": 2,
   "metadata": {},
   "outputs": [],
   "source": [
    "with open(\"use_files/landsatDataNP_import.csv\", \"r\") as fl:\n",
    "    data = fl.read()"
   ]
  },
  {
   "cell_type": "code",
   "execution_count": 3,
   "metadata": {},
   "outputs": [],
   "source": [
    "x_rough_train = [row.split(\",\")[1: -1] for row in data.split(\"\\n\")[1: -1]]\n",
    "y_train = [row.split(\",\")[-1] for row in data.split(\"\\n\")[1: -1]]"
   ]
  },
  {
   "cell_type": "code",
   "execution_count": 4,
   "metadata": {},
   "outputs": [],
   "source": [
    "max_vals = [20000.0, 20000.0, 20000.0, 20000.0, 20000.0, 20000.0, 20000.0, 1.0, 1.0, 1.0, 1.0, 10000.0]"
   ]
  },
  {
   "cell_type": "code",
   "execution_count": 5,
   "metadata": {},
   "outputs": [],
   "source": [
    "x_train = []\n",
    "for i in x_rough_train:\n",
    "    tmp = []\n",
    "    for x, mx in zip(i, max_vals):\n",
    "        tmp.append(float(x)/mx)\n",
    "    x_train.append(tmp)\n",
    "        "
   ]
  },
  {
   "cell_type": "code",
   "execution_count": 6,
   "metadata": {},
   "outputs": [
    {
     "ename": "NameError",
     "evalue": "name 'np' is not defined",
     "output_type": "error",
     "traceback": [
      "\u001b[1;31m---------------------------------------------------------------------------\u001b[0m",
      "\u001b[1;31mNameError\u001b[0m                                 Traceback (most recent call last)",
      "\u001b[1;32m<ipython-input-6-4d6029a180bf>\u001b[0m in \u001b[0;36m<module>\u001b[1;34m\u001b[0m\n\u001b[1;32m----> 1\u001b[1;33m \u001b[0mX_train\u001b[0m \u001b[1;33m=\u001b[0m \u001b[0mnp\u001b[0m\u001b[1;33m.\u001b[0m\u001b[0marray\u001b[0m\u001b[1;33m(\u001b[0m\u001b[0mx_train\u001b[0m\u001b[1;33m[\u001b[0m\u001b[1;33m:\u001b[0m\u001b[1;36m70000\u001b[0m\u001b[1;33m]\u001b[0m\u001b[1;33m)\u001b[0m\u001b[1;33m\u001b[0m\u001b[1;33m\u001b[0m\u001b[0m\n\u001b[0m\u001b[0;32m      2\u001b[0m \u001b[0mY_train\u001b[0m \u001b[1;33m=\u001b[0m \u001b[0mnp\u001b[0m\u001b[1;33m.\u001b[0m\u001b[0marray\u001b[0m\u001b[1;33m(\u001b[0m\u001b[0my_train\u001b[0m\u001b[1;33m[\u001b[0m\u001b[1;33m:\u001b[0m\u001b[1;36m70000\u001b[0m\u001b[1;33m]\u001b[0m\u001b[1;33m)\u001b[0m\u001b[1;33m\u001b[0m\u001b[1;33m\u001b[0m\u001b[0m\n\u001b[0;32m      3\u001b[0m \u001b[1;33m\u001b[0m\u001b[0m\n\u001b[0;32m      4\u001b[0m \u001b[0mX_test\u001b[0m \u001b[1;33m=\u001b[0m \u001b[0mnp\u001b[0m\u001b[1;33m.\u001b[0m\u001b[0marray\u001b[0m\u001b[1;33m(\u001b[0m\u001b[0mx_train\u001b[0m\u001b[1;33m[\u001b[0m\u001b[1;36m70000\u001b[0m\u001b[1;33m:\u001b[0m\u001b[1;33m]\u001b[0m\u001b[1;33m)\u001b[0m\u001b[1;33m\u001b[0m\u001b[1;33m\u001b[0m\u001b[0m\n\u001b[0;32m      5\u001b[0m \u001b[0mY_test\u001b[0m \u001b[1;33m=\u001b[0m \u001b[0mnp\u001b[0m\u001b[1;33m.\u001b[0m\u001b[0marray\u001b[0m\u001b[1;33m(\u001b[0m\u001b[0my_train\u001b[0m\u001b[1;33m[\u001b[0m\u001b[1;36m70000\u001b[0m\u001b[1;33m:\u001b[0m\u001b[1;33m]\u001b[0m\u001b[1;33m)\u001b[0m\u001b[1;33m\u001b[0m\u001b[1;33m\u001b[0m\u001b[0m\n",
      "\u001b[1;31mNameError\u001b[0m: name 'np' is not defined"
     ]
    }
   ],
   "source": [
    "import numpy as np\n",
    "X_train = np.array(x_train[:70000])\n",
    "Y_train = np.array(y_train[:70000])\n",
    "\n",
    "X_test = np.array(x_train[70000:])\n",
    "Y_test = np.array(y_train[70000:])"
   ]
  },
  {
   "cell_type": "markdown",
   "metadata": {},
   "source": [
    "# Heh Rather import in a pd dataset"
   ]
  },
  {
   "cell_type": "code",
   "execution_count": null,
   "metadata": {},
   "outputs": [],
   "source": [
    "#https://www.bmc.com/blogs/keras-neural-network-classification/"
   ]
  },
  {
   "cell_type": "code",
   "execution_count": null,
   "metadata": {},
   "outputs": [],
   "source": [
    "import tensorflow as tf\n",
    "from tensorflow.keras import datasets, layers, Model\n",
    "import matplotlib.pyplot as plt\n",
    "import numpy as np\n",
    "import pandas as pd\n",
    "import seaborn as sns\n",
    "from sklearn import model_selection\n",
    "from sklearn.model_selection import train_test_split\n",
    "from sklearn.preprocessing import StandardScaler"
   ]
  },
  {
   "cell_type": "code",
   "execution_count": null,
   "metadata": {},
   "outputs": [],
   "source": [
    "data = pd.read_csv(\"use_files/landsatDataNP_import.csv\")"
   ]
  },
  {
   "cell_type": "code",
   "execution_count": null,
   "metadata": {},
   "outputs": [
    {
     "data": {
      "text/html": [
       "<div>\n",
       "<style scoped>\n",
       "    .dataframe tbody tr th:only-of-type {\n",
       "        vertical-align: middle;\n",
       "    }\n",
       "\n",
       "    .dataframe tbody tr th {\n",
       "        vertical-align: top;\n",
       "    }\n",
       "\n",
       "    .dataframe thead th {\n",
       "        text-align: right;\n",
       "    }\n",
       "</style>\n",
       "<table border=\"1\" class=\"dataframe\">\n",
       "  <thead>\n",
       "    <tr style=\"text-align: right;\">\n",
       "      <th></th>\n",
       "      <th>B1</th>\n",
       "      <th>B2</th>\n",
       "      <th>B3</th>\n",
       "      <th>B4</th>\n",
       "      <th>B5</th>\n",
       "      <th>B6</th>\n",
       "      <th>B7</th>\n",
       "      <th>NDWI</th>\n",
       "      <th>NDVI</th>\n",
       "      <th>MNDWI</th>\n",
       "      <th>NDBI</th>\n",
       "      <th>elevation</th>\n",
       "      <th>LULC</th>\n",
       "    </tr>\n",
       "  </thead>\n",
       "  <tbody>\n",
       "    <tr>\n",
       "      <th>count</th>\n",
       "      <td>99638.000000</td>\n",
       "      <td>99638.000000</td>\n",
       "      <td>99638.000000</td>\n",
       "      <td>99638.000000</td>\n",
       "      <td>99638.000000</td>\n",
       "      <td>99638.000000</td>\n",
       "      <td>99638.000000</td>\n",
       "      <td>99638.000000</td>\n",
       "      <td>99638.000000</td>\n",
       "      <td>99638.000000</td>\n",
       "      <td>99638.000000</td>\n",
       "      <td>99638.000000</td>\n",
       "      <td>99638.000000</td>\n",
       "    </tr>\n",
       "    <tr>\n",
       "      <th>mean</th>\n",
       "      <td>1230.657149</td>\n",
       "      <td>1323.015315</td>\n",
       "      <td>1454.452061</td>\n",
       "      <td>2276.982788</td>\n",
       "      <td>1814.925285</td>\n",
       "      <td>2892.303142</td>\n",
       "      <td>1242.124024</td>\n",
       "      <td>0.115896</td>\n",
       "      <td>0.390045</td>\n",
       "      <td>-0.316372</td>\n",
       "      <td>-0.115896</td>\n",
       "      <td>2101.068056</td>\n",
       "      <td>2.951474</td>\n",
       "    </tr>\n",
       "    <tr>\n",
       "      <th>std</th>\n",
       "      <td>3018.790084</td>\n",
       "      <td>2707.795009</td>\n",
       "      <td>2967.112529</td>\n",
       "      <td>1596.329793</td>\n",
       "      <td>918.128098</td>\n",
       "      <td>104.860802</td>\n",
       "      <td>801.054760</td>\n",
       "      <td>0.229613</td>\n",
       "      <td>0.260727</td>\n",
       "      <td>0.344921</td>\n",
       "      <td>0.229613</td>\n",
       "      <td>1755.892012</td>\n",
       "      <td>1.952101</td>\n",
       "    </tr>\n",
       "    <tr>\n",
       "      <th>min</th>\n",
       "      <td>35.000000</td>\n",
       "      <td>37.000000</td>\n",
       "      <td>21.500000</td>\n",
       "      <td>51.000000</td>\n",
       "      <td>-4.000000</td>\n",
       "      <td>2365.000000</td>\n",
       "      <td>-35.000000</td>\n",
       "      <td>-0.502959</td>\n",
       "      <td>-0.655013</td>\n",
       "      <td>-0.729141</td>\n",
       "      <td>-1.035714</td>\n",
       "      <td>60.000000</td>\n",
       "      <td>1.000000</td>\n",
       "    </tr>\n",
       "    <tr>\n",
       "      <th>25%</th>\n",
       "      <td>373.500000</td>\n",
       "      <td>497.000000</td>\n",
       "      <td>460.500000</td>\n",
       "      <td>1674.000000</td>\n",
       "      <td>1151.000000</td>\n",
       "      <td>2844.500000</td>\n",
       "      <td>606.000000</td>\n",
       "      <td>-0.042914</td>\n",
       "      <td>0.244975</td>\n",
       "      <td>-0.510093</td>\n",
       "      <td>-0.233536</td>\n",
       "      <td>596.000000</td>\n",
       "      <td>1.000000</td>\n",
       "    </tr>\n",
       "    <tr>\n",
       "      <th>50%</th>\n",
       "      <td>553.000000</td>\n",
       "      <td>740.000000</td>\n",
       "      <td>807.000000</td>\n",
       "      <td>2147.000000</td>\n",
       "      <td>1779.000000</td>\n",
       "      <td>2918.000000</td>\n",
       "      <td>1104.750000</td>\n",
       "      <td>0.085133</td>\n",
       "      <td>0.425170</td>\n",
       "      <td>-0.425976</td>\n",
       "      <td>-0.085133</td>\n",
       "      <td>1572.000000</td>\n",
       "      <td>3.000000</td>\n",
       "    </tr>\n",
       "    <tr>\n",
       "      <th>75%</th>\n",
       "      <td>829.500000</td>\n",
       "      <td>1065.000000</td>\n",
       "      <td>1231.000000</td>\n",
       "      <td>2507.000000</td>\n",
       "      <td>2423.000000</td>\n",
       "      <td>2965.000000</td>\n",
       "      <td>1743.000000</td>\n",
       "      <td>0.233536</td>\n",
       "      <td>0.591132</td>\n",
       "      <td>-0.303799</td>\n",
       "      <td>0.042914</td>\n",
       "      <td>3451.000000</td>\n",
       "      <td>4.000000</td>\n",
       "    </tr>\n",
       "    <tr>\n",
       "      <th>max</th>\n",
       "      <td>20000.000000</td>\n",
       "      <td>20000.000000</td>\n",
       "      <td>20000.000000</td>\n",
       "      <td>20000.000000</td>\n",
       "      <td>20000.000000</td>\n",
       "      <td>3210.000000</td>\n",
       "      <td>13983.500000</td>\n",
       "      <td>1.035714</td>\n",
       "      <td>0.907505</td>\n",
       "      <td>1.016162</td>\n",
       "      <td>0.502959</td>\n",
       "      <td>8036.000000</td>\n",
       "      <td>8.000000</td>\n",
       "    </tr>\n",
       "  </tbody>\n",
       "</table>\n",
       "</div>"
      ],
      "text/plain": [
       "                 B1            B2            B3            B4            B5  \\\n",
       "count  99638.000000  99638.000000  99638.000000  99638.000000  99638.000000   \n",
       "mean    1230.657149   1323.015315   1454.452061   2276.982788   1814.925285   \n",
       "std     3018.790084   2707.795009   2967.112529   1596.329793    918.128098   \n",
       "min       35.000000     37.000000     21.500000     51.000000     -4.000000   \n",
       "25%      373.500000    497.000000    460.500000   1674.000000   1151.000000   \n",
       "50%      553.000000    740.000000    807.000000   2147.000000   1779.000000   \n",
       "75%      829.500000   1065.000000   1231.000000   2507.000000   2423.000000   \n",
       "max    20000.000000  20000.000000  20000.000000  20000.000000  20000.000000   \n",
       "\n",
       "                 B6            B7          NDWI          NDVI         MNDWI  \\\n",
       "count  99638.000000  99638.000000  99638.000000  99638.000000  99638.000000   \n",
       "mean    2892.303142   1242.124024      0.115896      0.390045     -0.316372   \n",
       "std      104.860802    801.054760      0.229613      0.260727      0.344921   \n",
       "min     2365.000000    -35.000000     -0.502959     -0.655013     -0.729141   \n",
       "25%     2844.500000    606.000000     -0.042914      0.244975     -0.510093   \n",
       "50%     2918.000000   1104.750000      0.085133      0.425170     -0.425976   \n",
       "75%     2965.000000   1743.000000      0.233536      0.591132     -0.303799   \n",
       "max     3210.000000  13983.500000      1.035714      0.907505      1.016162   \n",
       "\n",
       "               NDBI     elevation          LULC  \n",
       "count  99638.000000  99638.000000  99638.000000  \n",
       "mean      -0.115896   2101.068056      2.951474  \n",
       "std        0.229613   1755.892012      1.952101  \n",
       "min       -1.035714     60.000000      1.000000  \n",
       "25%       -0.233536    596.000000      1.000000  \n",
       "50%       -0.085133   1572.000000      3.000000  \n",
       "75%        0.042914   3451.000000      4.000000  \n",
       "max        0.502959   8036.000000      8.000000  "
      ]
     },
     "execution_count": 78,
     "metadata": {},
     "output_type": "execute_result"
    }
   ],
   "source": [
    "data.describe()"
   ]
  },
  {
   "cell_type": "code",
   "execution_count": null,
   "metadata": {},
   "outputs": [
    {
     "name": "stdout",
     "output_type": "stream",
     "text": [
      "<class 'pandas.core.frame.DataFrame'>\n",
      "RangeIndex: 99638 entries, 0 to 99637\n",
      "Data columns (total 14 columns):\n",
      " #   Column     Non-Null Count  Dtype  \n",
      "---  ------     --------------  -----  \n",
      " 0   ID         99638 non-null  object \n",
      " 1   B1         99638 non-null  float64\n",
      " 2   B2         99638 non-null  float64\n",
      " 3   B3         99638 non-null  float64\n",
      " 4   B4         99638 non-null  float64\n",
      " 5   B5         99638 non-null  float64\n",
      " 6   B6         99638 non-null  float64\n",
      " 7   B7         99638 non-null  float64\n",
      " 8   NDWI       99638 non-null  float64\n",
      " 9   NDVI       99638 non-null  float64\n",
      " 10  MNDWI      99638 non-null  float64\n",
      " 11  NDBI       99638 non-null  float64\n",
      " 12  elevation  99638 non-null  int64  \n",
      " 13  LULC       99638 non-null  int64  \n",
      "dtypes: float64(11), int64(2), object(1)\n",
      "memory usage: 10.6+ MB\n"
     ]
    }
   ],
   "source": [
    "data.info()"
   ]
  },
  {
   "cell_type": "code",
   "execution_count": null,
   "metadata": {},
   "outputs": [
    {
     "data": {
      "text/plain": [
       "0.43532809957283153"
      ]
     },
     "execution_count": 80,
     "metadata": {},
     "output_type": "execute_result"
    },
    {
     "data": {
      "image/png": "[encoded data removed]",
      "text/plain": [
       "<Figure size 432x288 with 2 Axes>"
      ]
     },
     "metadata": {
      "needs_background": "light"
     },
     "output_type": "display_data"
    }
   ],
   "source": [
    "corr = data.corr()\n",
    "sns.heatmap(corr, \n",
    "            xticklabels=corr.columns.values,\n",
    "            yticklabels=corr.columns.values)\n",
    "\n",
    "data[\"B1\"].corr(data[\"LULC\"])"
   ]
  },
  {
   "cell_type": "code",
   "execution_count": null,
   "metadata": {},
   "outputs": [],
   "source": [
    "labels=data['LULC']\n",
    "features = data.iloc[:,1:12]\n",
    "\n",
    "X = features\n",
    "y = np.ravel(labels)\n",
    "X_train, X_test, y_train, y_test = train_test_split(X, y, test_size=0.33, random_state=42) "
   ]
  },
  {
   "cell_type": "code",
   "execution_count": null,
   "metadata": {},
   "outputs": [],
   "source": [
    "scaler = StandardScaler().fit(X_train)\n",
    "X_train = scaler.transform(X_train)\n",
    "X_test = scaler.transform(X_test)  "
   ]
  },
  {
   "cell_type": "code",
   "execution_count": null,
   "metadata": {},
   "outputs": [],
   "source": [
    "from keras.models import Sequential\n",
    "from keras.layers import Dense\n"
   ]
  },
  {
   "cell_type": "code",
   "execution_count": null,
   "metadata": {},
   "outputs": [],
   "source": [
    "model = Sequential()\n",
    "\n",
    "model.add(Dense(12, activation='relu', input_shape=(11,)))\n",
    "model.add(Dense(12, activation='relu'))\n",
    "model.add(Dense(1, activation='sigmoid'))"
   ]
  },
  {
   "cell_type": "code",
   "execution_count": null,
   "metadata": {},
   "outputs": [
    {
     "name": "stdout",
     "output_type": "stream",
     "text": [
      "Epoch 1/4\n",
      "66757/66757 [==============================] - 92s 1ms/step - loss: nan - accuracy: 0.0022\n",
      "Epoch 2/4\n",
      "66757/66757 [==============================] - 73s 1ms/step - loss: nan - accuracy: 0.0000e+00\n",
      "Epoch 3/4\n",
      "66757/66757 [==============================] - 71s 1ms/step - loss: nan - accuracy: 0.0000e+00\n",
      "Epoch 4/4\n",
      "66757/66757 [==============================] - 71s 1ms/step - loss: nan - accuracy: 0.0000e+00\n"
     ]
    },
    {
     "data": {
      "text/plain": [
       "<keras.callbacks.History at 0x1be570a98b0>"
      ]
     },
     "execution_count": 98,
     "metadata": {},
     "output_type": "execute_result"
    }
   ],
   "source": [
    "model.compile(loss='binary_crossentropy',\n",
    "              optimizer='sgd',\n",
    "              metrics=['accuracy'])\n",
    "                   \n",
    "model.fit(X_train, y_train,epochs=4, batch_size=1, verbose=1)"
   ]
  },
  {
   "cell_type": "code",
   "execution_count": null,
   "metadata": {},
   "outputs": [],
   "source": [
    "for layer in model.layers:\n",
    "    weights = layer.get_weights()"
   ]
  },
  {
   "cell_type": "code",
   "execution_count": null,
   "metadata": {},
   "outputs": [],
   "source": []
  },
  {
   "cell_type": "code",
   "execution_count": null,
   "metadata": {},
   "outputs": [],
   "source": [
    "y_pred = model.predict_classes(X_test)\n",
    "score = model.evaluate(X_test, y_test,verbose=1)\n",
    "\n",
    "print(score)"
   ]
  },
  {
   "cell_type": "code",
   "execution_count": null,
   "metadata": {},
   "outputs": [],
   "source": []
  }
 ],
 "metadata": {
  "interpreter": {
   "hash": "b3ba2566441a7c06988d0923437866b63cedc61552a5af99d1f4fb67d367b25f"
  },
  "kernelspec": {
   "display_name": "Python 3.8.8 64-bit ('base': conda)",
   "name": "python3"
  },
  "language_info": {
   "codemirror_mode": {
    "name": "ipython",
    "version": 3
   },
   "file_extension": ".py",
   "mimetype": "text/x-python",
   "name": "python",
   "nbconvert_exporter": "python",
   "pygments_lexer": "ipython3",
   "version": "3.8.8"
  }
 },
 "nbformat": 4,
 "nbformat_minor": 5
}
