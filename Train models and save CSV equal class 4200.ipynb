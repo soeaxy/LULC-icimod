{
 "cells": [
  {
   "cell_type": "markdown",
   "source": [
    "# Multinomial Logistic Regression\n",
    "\n",
    "In this script we use multinomial logistic regression to predict the handwritten digits of the MNIST dataset."
   ],
   "metadata": {
    "id": "RLMhrwg-NRfy"
   }
  },
  {
   "cell_type": "code",
   "execution_count": 1,
   "source": [
    "# !pip install geemap\r\n",
    "from geemap import ml"
   ],
   "outputs": [],
   "metadata": {
    "colab": {
     "base_uri": "https://localhost:8080/",
     "height": 1000
    },
    "id": "bR1_XFLZrfyD",
    "outputId": "985d14aa-4822-4de5-8e20-001ff361cfb4"
   }
  },
  {
   "cell_type": "code",
   "execution_count": 2,
   "source": [
    "# with open(\"use_files/landsatDataNP_import.csv\", \"r\") as csv_file:\r\n",
    "#   data = csv_file.read()\r\n",
    "\r\n",
    "# with open(\"use_files/landsatDataNP.csv\", \"w\") as csv_file:\r\n",
    "#   csv_file.write(data)"
   ],
   "outputs": [],
   "metadata": {
    "id": "WO_QKf6zQLfD"
   }
  },
  {
   "cell_type": "code",
   "execution_count": 3,
   "source": [
    "import pandas as pd\r\n",
    "land = pd.read_csv(\"use_files/managedInput4200_class.csv\")\r\n",
    "land.head()"
   ],
   "outputs": [
    {
     "output_type": "execute_result",
     "data": {
      "text/plain": [
       "     ID     B1     B2     B3      B4      B5      B6      B7      NDWI  \\\n",
       "0   1_0  433.0  474.0  392.0  1914.0  1332.0  2970.0   489.0  0.179298   \n",
       "1   3_0  528.0  659.0  756.5  1989.5  1808.0  2809.5  1311.5  0.047795   \n",
       "2   8_0  129.0  205.0  185.0   693.0   592.0  2722.0   415.0  0.078599   \n",
       "3  11_0  601.5  822.5  977.0  1924.5  2240.0  3032.0  1687.0 -0.075759   \n",
       "4  14_0  587.0  788.0  837.0  1985.0  2398.0  2980.0  1672.0 -0.094228   \n",
       "\n",
       "       NDVI     MNDWI      NDBI  elevation  LULC  \n",
       "0  0.660017 -0.475083 -0.179298        164     1  \n",
       "1  0.449017 -0.465748 -0.047795       3643     1  \n",
       "2  0.578588 -0.485571 -0.078599       3515     1  \n",
       "3  0.326555 -0.462857  0.075759       1076     1  \n",
       "4  0.406804 -0.505336  0.094228        184     1  "
      ],
      "text/html": [
       "<div>\n",
       "<style scoped>\n",
       "    .dataframe tbody tr th:only-of-type {\n",
       "        vertical-align: middle;\n",
       "    }\n",
       "\n",
       "    .dataframe tbody tr th {\n",
       "        vertical-align: top;\n",
       "    }\n",
       "\n",
       "    .dataframe thead th {\n",
       "        text-align: right;\n",
       "    }\n",
       "</style>\n",
       "<table border=\"1\" class=\"dataframe\">\n",
       "  <thead>\n",
       "    <tr style=\"text-align: right;\">\n",
       "      <th></th>\n",
       "      <th>ID</th>\n",
       "      <th>B1</th>\n",
       "      <th>B2</th>\n",
       "      <th>B3</th>\n",
       "      <th>B4</th>\n",
       "      <th>B5</th>\n",
       "      <th>B6</th>\n",
       "      <th>B7</th>\n",
       "      <th>NDWI</th>\n",
       "      <th>NDVI</th>\n",
       "      <th>MNDWI</th>\n",
       "      <th>NDBI</th>\n",
       "      <th>elevation</th>\n",
       "      <th>LULC</th>\n",
       "    </tr>\n",
       "  </thead>\n",
       "  <tbody>\n",
       "    <tr>\n",
       "      <th>0</th>\n",
       "      <td>1_0</td>\n",
       "      <td>433.0</td>\n",
       "      <td>474.0</td>\n",
       "      <td>392.0</td>\n",
       "      <td>1914.0</td>\n",
       "      <td>1332.0</td>\n",
       "      <td>2970.0</td>\n",
       "      <td>489.0</td>\n",
       "      <td>0.179298</td>\n",
       "      <td>0.660017</td>\n",
       "      <td>-0.475083</td>\n",
       "      <td>-0.179298</td>\n",
       "      <td>164</td>\n",
       "      <td>1</td>\n",
       "    </tr>\n",
       "    <tr>\n",
       "      <th>1</th>\n",
       "      <td>3_0</td>\n",
       "      <td>528.0</td>\n",
       "      <td>659.0</td>\n",
       "      <td>756.5</td>\n",
       "      <td>1989.5</td>\n",
       "      <td>1808.0</td>\n",
       "      <td>2809.5</td>\n",
       "      <td>1311.5</td>\n",
       "      <td>0.047795</td>\n",
       "      <td>0.449017</td>\n",
       "      <td>-0.465748</td>\n",
       "      <td>-0.047795</td>\n",
       "      <td>3643</td>\n",
       "      <td>1</td>\n",
       "    </tr>\n",
       "    <tr>\n",
       "      <th>2</th>\n",
       "      <td>8_0</td>\n",
       "      <td>129.0</td>\n",
       "      <td>205.0</td>\n",
       "      <td>185.0</td>\n",
       "      <td>693.0</td>\n",
       "      <td>592.0</td>\n",
       "      <td>2722.0</td>\n",
       "      <td>415.0</td>\n",
       "      <td>0.078599</td>\n",
       "      <td>0.578588</td>\n",
       "      <td>-0.485571</td>\n",
       "      <td>-0.078599</td>\n",
       "      <td>3515</td>\n",
       "      <td>1</td>\n",
       "    </tr>\n",
       "    <tr>\n",
       "      <th>3</th>\n",
       "      <td>11_0</td>\n",
       "      <td>601.5</td>\n",
       "      <td>822.5</td>\n",
       "      <td>977.0</td>\n",
       "      <td>1924.5</td>\n",
       "      <td>2240.0</td>\n",
       "      <td>3032.0</td>\n",
       "      <td>1687.0</td>\n",
       "      <td>-0.075759</td>\n",
       "      <td>0.326555</td>\n",
       "      <td>-0.462857</td>\n",
       "      <td>0.075759</td>\n",
       "      <td>1076</td>\n",
       "      <td>1</td>\n",
       "    </tr>\n",
       "    <tr>\n",
       "      <th>4</th>\n",
       "      <td>14_0</td>\n",
       "      <td>587.0</td>\n",
       "      <td>788.0</td>\n",
       "      <td>837.0</td>\n",
       "      <td>1985.0</td>\n",
       "      <td>2398.0</td>\n",
       "      <td>2980.0</td>\n",
       "      <td>1672.0</td>\n",
       "      <td>-0.094228</td>\n",
       "      <td>0.406804</td>\n",
       "      <td>-0.505336</td>\n",
       "      <td>0.094228</td>\n",
       "      <td>184</td>\n",
       "      <td>1</td>\n",
       "    </tr>\n",
       "  </tbody>\n",
       "</table>\n",
       "</div>"
      ]
     },
     "metadata": {},
     "execution_count": 3
    }
   ],
   "metadata": {
    "colab": {
     "base_uri": "https://localhost:8080/",
     "height": 224
    },
    "id": "pB1vN3-KQ8lg",
    "outputId": "af38cc03-0a76-43ad-d06f-9945342590c9"
   }
  },
  {
   "cell_type": "code",
   "execution_count": 4,
   "source": [
    "import pandas as pd\r\n",
    "from sklearn.linear_model import LogisticRegression\r\n",
    "import matplotlib.pyplot as plt\r\n",
    "from sklearn.model_selection import train_test_split"
   ],
   "outputs": [],
   "metadata": {
    "id": "LB5WSy69R19w"
   }
  },
  {
   "cell_type": "code",
   "execution_count": 5,
   "source": [
    "# first_row = ['ID', 'B1', 'B2', 'B3', 'B4', 'B5', 'B6', 'B7', 'NDWI', 'NDVI', 'MNDWI', 'NDBI', 'elevation', 'LULC']\r\n",
    "\r\n",
    "main_data = pd.read_csv('use_files/landsatDataNP.csv') \r\n",
    "# main_data = pd.read_csv('/content/landsatDataNP.csv', names = first_row) \r\n",
    "band_df = pd.DataFrame(main_data)\r\n",
    "# band_df.Class = band_df.Class - 1"
   ],
   "outputs": [],
   "metadata": {
    "id": "r4Ini2DYSG_A"
   }
  },
  {
   "cell_type": "code",
   "execution_count": 6,
   "source": [
    "band_df.head()"
   ],
   "outputs": [
    {
     "output_type": "execute_result",
     "data": {
      "text/plain": [
       "    ID     B1      B2      B3      B4      B5      B6      B7      NDWI  \\\n",
       "0  0_0  755.0  1205.5  1710.0  2739.0  3260.0  3060.0  2450.0 -0.086848   \n",
       "1  1_0  433.0   474.0   392.0  1914.0  1332.0  2970.0   489.0  0.179298   \n",
       "2  2_0  868.0  1112.0  1187.0  2491.0  2498.0  2980.0  1771.0 -0.001403   \n",
       "3  3_0  528.0   659.0   756.5  1989.5  1808.0  2809.5  1311.5  0.047795   \n",
       "4  4_0  447.5   591.0   624.5  1351.0  1530.0  2850.0  1123.0 -0.062131   \n",
       "\n",
       "       NDVI     MNDWI      NDBI  elevation  LULC  \n",
       "0  0.231288 -0.460083  0.086848        797     4  \n",
       "1  0.660017 -0.475083 -0.179298        164     1  \n",
       "2  0.354541 -0.383934  0.001403        125     4  \n",
       "3  0.449017 -0.465748 -0.047795       3643     1  \n",
       "4  0.367755 -0.442716  0.062131       1029     4  "
      ],
      "text/html": [
       "<div>\n",
       "<style scoped>\n",
       "    .dataframe tbody tr th:only-of-type {\n",
       "        vertical-align: middle;\n",
       "    }\n",
       "\n",
       "    .dataframe tbody tr th {\n",
       "        vertical-align: top;\n",
       "    }\n",
       "\n",
       "    .dataframe thead th {\n",
       "        text-align: right;\n",
       "    }\n",
       "</style>\n",
       "<table border=\"1\" class=\"dataframe\">\n",
       "  <thead>\n",
       "    <tr style=\"text-align: right;\">\n",
       "      <th></th>\n",
       "      <th>ID</th>\n",
       "      <th>B1</th>\n",
       "      <th>B2</th>\n",
       "      <th>B3</th>\n",
       "      <th>B4</th>\n",
       "      <th>B5</th>\n",
       "      <th>B6</th>\n",
       "      <th>B7</th>\n",
       "      <th>NDWI</th>\n",
       "      <th>NDVI</th>\n",
       "      <th>MNDWI</th>\n",
       "      <th>NDBI</th>\n",
       "      <th>elevation</th>\n",
       "      <th>LULC</th>\n",
       "    </tr>\n",
       "  </thead>\n",
       "  <tbody>\n",
       "    <tr>\n",
       "      <th>0</th>\n",
       "      <td>0_0</td>\n",
       "      <td>755.0</td>\n",
       "      <td>1205.5</td>\n",
       "      <td>1710.0</td>\n",
       "      <td>2739.0</td>\n",
       "      <td>3260.0</td>\n",
       "      <td>3060.0</td>\n",
       "      <td>2450.0</td>\n",
       "      <td>-0.086848</td>\n",
       "      <td>0.231288</td>\n",
       "      <td>-0.460083</td>\n",
       "      <td>0.086848</td>\n",
       "      <td>797</td>\n",
       "      <td>4</td>\n",
       "    </tr>\n",
       "    <tr>\n",
       "      <th>1</th>\n",
       "      <td>1_0</td>\n",
       "      <td>433.0</td>\n",
       "      <td>474.0</td>\n",
       "      <td>392.0</td>\n",
       "      <td>1914.0</td>\n",
       "      <td>1332.0</td>\n",
       "      <td>2970.0</td>\n",
       "      <td>489.0</td>\n",
       "      <td>0.179298</td>\n",
       "      <td>0.660017</td>\n",
       "      <td>-0.475083</td>\n",
       "      <td>-0.179298</td>\n",
       "      <td>164</td>\n",
       "      <td>1</td>\n",
       "    </tr>\n",
       "    <tr>\n",
       "      <th>2</th>\n",
       "      <td>2_0</td>\n",
       "      <td>868.0</td>\n",
       "      <td>1112.0</td>\n",
       "      <td>1187.0</td>\n",
       "      <td>2491.0</td>\n",
       "      <td>2498.0</td>\n",
       "      <td>2980.0</td>\n",
       "      <td>1771.0</td>\n",
       "      <td>-0.001403</td>\n",
       "      <td>0.354541</td>\n",
       "      <td>-0.383934</td>\n",
       "      <td>0.001403</td>\n",
       "      <td>125</td>\n",
       "      <td>4</td>\n",
       "    </tr>\n",
       "    <tr>\n",
       "      <th>3</th>\n",
       "      <td>3_0</td>\n",
       "      <td>528.0</td>\n",
       "      <td>659.0</td>\n",
       "      <td>756.5</td>\n",
       "      <td>1989.5</td>\n",
       "      <td>1808.0</td>\n",
       "      <td>2809.5</td>\n",
       "      <td>1311.5</td>\n",
       "      <td>0.047795</td>\n",
       "      <td>0.449017</td>\n",
       "      <td>-0.465748</td>\n",
       "      <td>-0.047795</td>\n",
       "      <td>3643</td>\n",
       "      <td>1</td>\n",
       "    </tr>\n",
       "    <tr>\n",
       "      <th>4</th>\n",
       "      <td>4_0</td>\n",
       "      <td>447.5</td>\n",
       "      <td>591.0</td>\n",
       "      <td>624.5</td>\n",
       "      <td>1351.0</td>\n",
       "      <td>1530.0</td>\n",
       "      <td>2850.0</td>\n",
       "      <td>1123.0</td>\n",
       "      <td>-0.062131</td>\n",
       "      <td>0.367755</td>\n",
       "      <td>-0.442716</td>\n",
       "      <td>0.062131</td>\n",
       "      <td>1029</td>\n",
       "      <td>4</td>\n",
       "    </tr>\n",
       "  </tbody>\n",
       "</table>\n",
       "</div>"
      ]
     },
     "metadata": {},
     "execution_count": 6
    }
   ],
   "metadata": {
    "colab": {
     "base_uri": "https://localhost:8080/",
     "height": 204
    },
    "id": "iZn574-pSJam",
    "outputId": "c9f723bb-0558-409c-bab1-cd51149abc8a"
   }
  },
  {
   "cell_type": "code",
   "execution_count": 7,
   "source": [
    "# band_df[\"B1\"] = band_df[\"B1\"] .div(20000)\r\n",
    "# band_df[\"B2\"] = band_df[\"B2\"].div(20000)\r\n",
    "# band_df[\"B3\"] = band_df[\"B3\"].div(20000)\r\n",
    "# band_df[\"B4\"] = band_df[\"B4\"].div(20000)\r\n",
    "# band_df[\"B5\"] = band_df[\"B5\"].div(20000)\r\n",
    "# band_df[\"B6\"] = band_df[\"B6\"].div(20000)\r\n",
    "# band_df[\"B7\"] = band_df[\"B7\"].div(20000)\r\n",
    "# band_df[\"elevation\"] = band_df[\"elevation\"].div(10000)\r\n",
    "\r\n",
    "band_df[\"B1\"] = band_df[\"B1\"] \r\n",
    "band_df[\"B2\"] = band_df[\"B2\"]\r\n",
    "band_df[\"B3\"] = band_df[\"B3\"]\r\n",
    "band_df[\"B4\"] = band_df[\"B4\"]\r\n",
    "band_df[\"B5\"] = band_df[\"B5\"]\r\n",
    "band_df[\"B6\"] = band_df[\"B6\"]\r\n",
    "band_df[\"B7\"] = band_df[\"B7\"]\r\n",
    "band_df[\"elevation\"] = band_df[\"elevation\"]\r\n",
    "\r\n",
    "band_df"
   ],
   "outputs": [
    {
     "output_type": "execute_result",
     "data": {
      "text/plain": [
       "            ID      B1      B2      B3      B4      B5      B6      B7  \\\n",
       "0          0_0   755.0  1205.5  1710.0  2739.0  3260.0  3060.0  2450.0   \n",
       "1          1_0   433.0   474.0   392.0  1914.0  1332.0  2970.0   489.0   \n",
       "2          2_0   868.0  1112.0  1187.0  2491.0  2498.0  2980.0  1771.0   \n",
       "3          3_0   528.0   659.0   756.5  1989.5  1808.0  2809.5  1311.5   \n",
       "4          4_0   447.5   591.0   624.5  1351.0  1530.0  2850.0  1123.0   \n",
       "...        ...     ...     ...     ...     ...     ...     ...     ...   \n",
       "99633  99995_0   588.0   805.0  1090.0  2178.5  3580.0  2954.5  2592.5   \n",
       "99634  99996_0  1052.5  1244.0  1341.5  1423.5  1314.0  2880.5  1220.5   \n",
       "99635  99997_0   590.5   833.0   797.5  2267.0  1754.5  2987.5  1005.5   \n",
       "99636  99998_0   863.0  1165.0  1725.0  2568.0  3954.0  2881.0  2766.0   \n",
       "99637  99999_0   293.0   316.0   254.5   921.0   432.0  2880.0   191.0   \n",
       "\n",
       "           NDWI      NDVI     MNDWI      NDBI  elevation  LULC  \n",
       "0     -0.086848  0.231288 -0.460083  0.086848        797     4  \n",
       "1      0.179298  0.660017 -0.475083 -0.179298        164     1  \n",
       "2     -0.001403  0.354541 -0.383934  0.001403        125     4  \n",
       "3      0.047795  0.449017 -0.465748 -0.047795       3643     1  \n",
       "4     -0.062131  0.367755 -0.442716  0.062131       1029     4  \n",
       "...         ...       ...       ...       ...        ...   ...  \n",
       "99633 -0.243379  0.333027 -0.632839  0.243379       4376     3  \n",
       "99634  0.040000  0.029656 -0.027365 -0.040000       5097     3  \n",
       "99635  0.127440  0.479524 -0.356135 -0.127440        143     4  \n",
       "99636 -0.212511  0.196366 -0.544833  0.212511       3972     3  \n",
       "99637  0.361419  0.566993 -0.155080 -0.361419       1004     1  \n",
       "\n",
       "[99638 rows x 14 columns]"
      ],
      "text/html": [
       "<div>\n",
       "<style scoped>\n",
       "    .dataframe tbody tr th:only-of-type {\n",
       "        vertical-align: middle;\n",
       "    }\n",
       "\n",
       "    .dataframe tbody tr th {\n",
       "        vertical-align: top;\n",
       "    }\n",
       "\n",
       "    .dataframe thead th {\n",
       "        text-align: right;\n",
       "    }\n",
       "</style>\n",
       "<table border=\"1\" class=\"dataframe\">\n",
       "  <thead>\n",
       "    <tr style=\"text-align: right;\">\n",
       "      <th></th>\n",
       "      <th>ID</th>\n",
       "      <th>B1</th>\n",
       "      <th>B2</th>\n",
       "      <th>B3</th>\n",
       "      <th>B4</th>\n",
       "      <th>B5</th>\n",
       "      <th>B6</th>\n",
       "      <th>B7</th>\n",
       "      <th>NDWI</th>\n",
       "      <th>NDVI</th>\n",
       "      <th>MNDWI</th>\n",
       "      <th>NDBI</th>\n",
       "      <th>elevation</th>\n",
       "      <th>LULC</th>\n",
       "    </tr>\n",
       "  </thead>\n",
       "  <tbody>\n",
       "    <tr>\n",
       "      <th>0</th>\n",
       "      <td>0_0</td>\n",
       "      <td>755.0</td>\n",
       "      <td>1205.5</td>\n",
       "      <td>1710.0</td>\n",
       "      <td>2739.0</td>\n",
       "      <td>3260.0</td>\n",
       "      <td>3060.0</td>\n",
       "      <td>2450.0</td>\n",
       "      <td>-0.086848</td>\n",
       "      <td>0.231288</td>\n",
       "      <td>-0.460083</td>\n",
       "      <td>0.086848</td>\n",
       "      <td>797</td>\n",
       "      <td>4</td>\n",
       "    </tr>\n",
       "    <tr>\n",
       "      <th>1</th>\n",
       "      <td>1_0</td>\n",
       "      <td>433.0</td>\n",
       "      <td>474.0</td>\n",
       "      <td>392.0</td>\n",
       "      <td>1914.0</td>\n",
       "      <td>1332.0</td>\n",
       "      <td>2970.0</td>\n",
       "      <td>489.0</td>\n",
       "      <td>0.179298</td>\n",
       "      <td>0.660017</td>\n",
       "      <td>-0.475083</td>\n",
       "      <td>-0.179298</td>\n",
       "      <td>164</td>\n",
       "      <td>1</td>\n",
       "    </tr>\n",
       "    <tr>\n",
       "      <th>2</th>\n",
       "      <td>2_0</td>\n",
       "      <td>868.0</td>\n",
       "      <td>1112.0</td>\n",
       "      <td>1187.0</td>\n",
       "      <td>2491.0</td>\n",
       "      <td>2498.0</td>\n",
       "      <td>2980.0</td>\n",
       "      <td>1771.0</td>\n",
       "      <td>-0.001403</td>\n",
       "      <td>0.354541</td>\n",
       "      <td>-0.383934</td>\n",
       "      <td>0.001403</td>\n",
       "      <td>125</td>\n",
       "      <td>4</td>\n",
       "    </tr>\n",
       "    <tr>\n",
       "      <th>3</th>\n",
       "      <td>3_0</td>\n",
       "      <td>528.0</td>\n",
       "      <td>659.0</td>\n",
       "      <td>756.5</td>\n",
       "      <td>1989.5</td>\n",
       "      <td>1808.0</td>\n",
       "      <td>2809.5</td>\n",
       "      <td>1311.5</td>\n",
       "      <td>0.047795</td>\n",
       "      <td>0.449017</td>\n",
       "      <td>-0.465748</td>\n",
       "      <td>-0.047795</td>\n",
       "      <td>3643</td>\n",
       "      <td>1</td>\n",
       "    </tr>\n",
       "    <tr>\n",
       "      <th>4</th>\n",
       "      <td>4_0</td>\n",
       "      <td>447.5</td>\n",
       "      <td>591.0</td>\n",
       "      <td>624.5</td>\n",
       "      <td>1351.0</td>\n",
       "      <td>1530.0</td>\n",
       "      <td>2850.0</td>\n",
       "      <td>1123.0</td>\n",
       "      <td>-0.062131</td>\n",
       "      <td>0.367755</td>\n",
       "      <td>-0.442716</td>\n",
       "      <td>0.062131</td>\n",
       "      <td>1029</td>\n",
       "      <td>4</td>\n",
       "    </tr>\n",
       "    <tr>\n",
       "      <th>...</th>\n",
       "      <td>...</td>\n",
       "      <td>...</td>\n",
       "      <td>...</td>\n",
       "      <td>...</td>\n",
       "      <td>...</td>\n",
       "      <td>...</td>\n",
       "      <td>...</td>\n",
       "      <td>...</td>\n",
       "      <td>...</td>\n",
       "      <td>...</td>\n",
       "      <td>...</td>\n",
       "      <td>...</td>\n",
       "      <td>...</td>\n",
       "      <td>...</td>\n",
       "    </tr>\n",
       "    <tr>\n",
       "      <th>99633</th>\n",
       "      <td>99995_0</td>\n",
       "      <td>588.0</td>\n",
       "      <td>805.0</td>\n",
       "      <td>1090.0</td>\n",
       "      <td>2178.5</td>\n",
       "      <td>3580.0</td>\n",
       "      <td>2954.5</td>\n",
       "      <td>2592.5</td>\n",
       "      <td>-0.243379</td>\n",
       "      <td>0.333027</td>\n",
       "      <td>-0.632839</td>\n",
       "      <td>0.243379</td>\n",
       "      <td>4376</td>\n",
       "      <td>3</td>\n",
       "    </tr>\n",
       "    <tr>\n",
       "      <th>99634</th>\n",
       "      <td>99996_0</td>\n",
       "      <td>1052.5</td>\n",
       "      <td>1244.0</td>\n",
       "      <td>1341.5</td>\n",
       "      <td>1423.5</td>\n",
       "      <td>1314.0</td>\n",
       "      <td>2880.5</td>\n",
       "      <td>1220.5</td>\n",
       "      <td>0.040000</td>\n",
       "      <td>0.029656</td>\n",
       "      <td>-0.027365</td>\n",
       "      <td>-0.040000</td>\n",
       "      <td>5097</td>\n",
       "      <td>3</td>\n",
       "    </tr>\n",
       "    <tr>\n",
       "      <th>99635</th>\n",
       "      <td>99997_0</td>\n",
       "      <td>590.5</td>\n",
       "      <td>833.0</td>\n",
       "      <td>797.5</td>\n",
       "      <td>2267.0</td>\n",
       "      <td>1754.5</td>\n",
       "      <td>2987.5</td>\n",
       "      <td>1005.5</td>\n",
       "      <td>0.127440</td>\n",
       "      <td>0.479524</td>\n",
       "      <td>-0.356135</td>\n",
       "      <td>-0.127440</td>\n",
       "      <td>143</td>\n",
       "      <td>4</td>\n",
       "    </tr>\n",
       "    <tr>\n",
       "      <th>99636</th>\n",
       "      <td>99998_0</td>\n",
       "      <td>863.0</td>\n",
       "      <td>1165.0</td>\n",
       "      <td>1725.0</td>\n",
       "      <td>2568.0</td>\n",
       "      <td>3954.0</td>\n",
       "      <td>2881.0</td>\n",
       "      <td>2766.0</td>\n",
       "      <td>-0.212511</td>\n",
       "      <td>0.196366</td>\n",
       "      <td>-0.544833</td>\n",
       "      <td>0.212511</td>\n",
       "      <td>3972</td>\n",
       "      <td>3</td>\n",
       "    </tr>\n",
       "    <tr>\n",
       "      <th>99637</th>\n",
       "      <td>99999_0</td>\n",
       "      <td>293.0</td>\n",
       "      <td>316.0</td>\n",
       "      <td>254.5</td>\n",
       "      <td>921.0</td>\n",
       "      <td>432.0</td>\n",
       "      <td>2880.0</td>\n",
       "      <td>191.0</td>\n",
       "      <td>0.361419</td>\n",
       "      <td>0.566993</td>\n",
       "      <td>-0.155080</td>\n",
       "      <td>-0.361419</td>\n",
       "      <td>1004</td>\n",
       "      <td>1</td>\n",
       "    </tr>\n",
       "  </tbody>\n",
       "</table>\n",
       "<p>99638 rows × 14 columns</p>\n",
       "</div>"
      ]
     },
     "metadata": {},
     "execution_count": 7
    }
   ],
   "metadata": {
    "colab": {
     "base_uri": "https://localhost:8080/",
     "height": 439
    },
    "id": "rK4wgjwpWPSB",
    "outputId": "8ab808b1-0fd4-4f33-96ba-33c5ce474dd8"
   }
  },
  {
   "cell_type": "code",
   "execution_count": 8,
   "source": [
    "Y = band_df.loc[:,'LULC'].values\r\n",
    "X = band_df.loc[:,'B1':'elevation'].values\r\n",
    "\r\n",
    "#we split the dataset into a test and training set\r\n",
    "train_x, test_x, train_y, test_y = train_test_split(X,Y , test_size=0.3, random_state=0)\r\n",
    "clf = LogisticRegression(solver='saga',multi_class='multinomial')\r\n"
   ],
   "outputs": [],
   "metadata": {
    "id": "wE_0NiDXSiQ6"
   }
  },
  {
   "cell_type": "code",
   "execution_count": 9,
   "source": [
    "clf.fit(train_x, train_y)\r\n",
    "clf.score(test_x, test_y)"
   ],
   "outputs": [
    {
     "output_type": "stream",
     "name": "stderr",
     "text": [
      "C:\\Users\\issue song\\AppData\\Roaming\\Python\\Python38\\site-packages\\sklearn\\linear_model\\_sag.py:328: ConvergenceWarning: The max_iter was reached which means the coef_ did not converge\n",
      "  warnings.warn(\"The max_iter was reached which means \"\n"
     ]
    },
    {
     "output_type": "execute_result",
     "data": {
      "text/plain": [
       "0.7283554128194835"
      ]
     },
     "metadata": {},
     "execution_count": 9
    }
   ],
   "metadata": {
    "colab": {
     "base_uri": "https://localhost:8080/"
    },
    "id": "8SpPUbSdUg4g",
    "outputId": "2b5041d3-2018-4cce-d53d-f7e552247c80"
   }
  },
  {
   "cell_type": "code",
   "execution_count": 10,
   "source": [
    "#Print model parameters\r\n",
    "print('Intercept: \\n', clf.intercept_)\r\n",
    "print('Coefficients: \\n', clf.coef_)"
   ],
   "outputs": [
    {
     "output_type": "stream",
     "name": "stdout",
     "text": [
      "Intercept: \n",
      " [-8.02518994e-07  9.62626759e-08 -1.96043561e-06  1.11368046e-06\n",
      "  8.45206927e-08  4.74545363e-07  8.57808607e-07  1.36136805e-07]\n",
      "Coefficients: \n",
      " [[ 5.53123767e-04 -2.62083250e-03 -8.52674434e-05  1.83336471e-03\n",
      "   1.37239150e-03  1.49453608e-03 -3.97955543e-03  4.38632194e-06\n",
      "   3.49456029e-05 -3.12694666e-05 -4.38632194e-06 -2.82412904e-04]\n",
      " [ 5.17496693e-04 -6.06321523e-04 -7.73612410e-04  1.58381519e-04\n",
      "   1.86361175e-03 -3.83342238e-06 -2.21052733e-03 -9.81737583e-07\n",
      "  -2.16074609e-07  1.03631503e-06  9.81737583e-07  3.62036913e-04]\n",
      " [ 4.90917843e-06  5.56176152e-04  2.35206852e-05 -3.25298814e-04\n",
      "   1.74477793e-03 -3.50520743e-04 -1.27362305e-03 -1.37063765e-05\n",
      "  -6.68983037e-07 -1.49385820e-05  1.37063765e-05  6.78697865e-04]\n",
      " [-8.32337049e-04 -5.80004136e-04  3.69985770e-04  1.19637465e-03\n",
      "   1.46815332e-03  6.33340430e-04 -1.33053715e-03 -4.06004581e-06\n",
      "  -5.58702744e-06  6.60187309e-07  4.06004581e-06 -1.00135616e-03]\n",
      " [-6.95470963e-05  6.85703240e-04  6.13272349e-05 -5.87157534e-05\n",
      "  -3.12211983e-03 -3.42856045e-05  4.19185963e-03 -3.31090343e-06\n",
      "  -2.11688349e-05  1.83239325e-05  3.31090343e-06  4.39333960e-04]\n",
      " [-5.00430695e-04  1.51444468e-03  6.38094464e-04 -2.68380474e-03\n",
      "  -1.21436044e-03  1.56970345e-03  1.63238764e-03  3.30629888e-07\n",
      "  -4.39404770e-06  4.90364700e-06 -3.30629888e-07 -1.52929931e-03]\n",
      " [-6.64859217e-05  6.56028394e-04  4.65112785e-05  2.07432945e-04\n",
      "  -1.63891860e-03 -3.45306094e-03  1.94695106e-03  1.77762574e-05\n",
      "  -2.35599474e-06  2.11083741e-05 -1.77762574e-05  2.42847469e-03]\n",
      " [ 3.93271123e-04  3.94805691e-04 -2.80559580e-04 -3.27734513e-04\n",
      "  -4.73535636e-04  1.44120753e-04  1.02304462e-03 -4.34145979e-07\n",
      "  -5.54640479e-07  1.75592646e-07  4.34145979e-07 -1.09547506e-03]]\n"
     ]
    }
   ],
   "metadata": {
    "colab": {
     "base_uri": "https://localhost:8080/"
    },
    "id": "CJ7W2mAUWDAP",
    "outputId": "d26cffca-e7b3-4506-c895-5c67023fd287"
   }
  },
  {
   "cell_type": "code",
   "execution_count": null,
   "source": [],
   "outputs": [],
   "metadata": {
    "id": "BIkcE4vh4s9z"
   }
  },
  {
   "cell_type": "code",
   "execution_count": null,
   "source": [],
   "outputs": [],
   "metadata": {
    "id": "g6DLMQfY7TME"
   }
  },
  {
   "cell_type": "markdown",
   "source": [
    "# Same thing again Ignore"
   ],
   "metadata": {
    "id": "8hWjTAHwbGUJ"
   }
  },
  {
   "cell_type": "code",
   "execution_count": 11,
   "source": [
    "X_train, X_test, y_train, y_test = train_test_split(X, Y, test_size = 0.20, random_state = 5)\r\n",
    "print(X_train.shape)\r\n",
    "print(X_test.shape)\r\n",
    "print(y_train.shape)\r\n",
    "print(y_test.shape)"
   ],
   "outputs": [
    {
     "output_type": "stream",
     "name": "stdout",
     "text": [
      "(79710, 12)\n",
      "(19928, 12)\n",
      "(79710,)\n",
      "(19928,)\n"
     ]
    }
   ],
   "metadata": {
    "colab": {
     "base_uri": "https://localhost:8080/"
    },
    "id": "seuLM43wZnAH",
    "outputId": "3de04df5-ce5d-4110-eb02-0702df0e85e4"
   }
  },
  {
   "cell_type": "code",
   "execution_count": 12,
   "source": [
    "# model1 = LogisticRegression(random_state=0, multi_class='multinomial', penalty='none', solver='newton-cg').fit(X_train, y_train)\r\n",
    "# preds = model1.predict(X_test)"
   ],
   "outputs": [],
   "metadata": {
    "id": "U2vrMiSiZqv7"
   }
  },
  {
   "cell_type": "code",
   "execution_count": 13,
   "source": [
    "# model1.score(X_test, y_test)"
   ],
   "outputs": [],
   "metadata": {
    "colab": {
     "base_uri": "https://localhost:8080/"
    },
    "id": "jOdXBIttaje3",
    "outputId": "df74e2f0-4617-456a-a237-6f68740398f1"
   }
  },
  {
   "cell_type": "code",
   "execution_count": 14,
   "source": [
    "#print the tunable parameters (They were not tuned in this example, everything kept as default)\r\n",
    "# params = model1.get_params()\r\n",
    "# print(params)"
   ],
   "outputs": [],
   "metadata": {
    "colab": {
     "base_uri": "https://localhost:8080/"
    },
    "id": "so1QWV0hZ2mE",
    "outputId": "e54d0e46-e120-4d06-efdc-3e2da95c6b77"
   }
  },
  {
   "cell_type": "code",
   "execution_count": 15,
   "source": [
    "#Print model parameters\r\n",
    "# print('Intercept: \\n', model1.intercept_)\r\n",
    "# print('Coefficients: \\n', model1.coef_)"
   ],
   "outputs": [],
   "metadata": {
    "colab": {
     "base_uri": "https://localhost:8080/"
    },
    "id": "_uS_m1d-aeQj",
    "outputId": "96a734c0-a8cb-4d94-b440-9f5a7121159c"
   }
  },
  {
   "cell_type": "code",
   "execution_count": null,
   "source": [],
   "outputs": [],
   "metadata": {
    "id": "t7jkVObJazSO"
   }
  },
  {
   "cell_type": "markdown",
   "source": [
    "# Random forest classifier"
   ],
   "metadata": {
    "id": "7yzrGIQ5g47d"
   }
  },
  {
   "cell_type": "code",
   "execution_count": 16,
   "source": [
    "from sklearn import ensemble"
   ],
   "outputs": [],
   "metadata": {
    "id": "0B6NYqLRhfPQ"
   }
  },
  {
   "cell_type": "code",
   "execution_count": 17,
   "source": [
    "# feature_names = ['B2', 'B3', 'B4', 'B5', 'B6', 'B7']\r\n",
    "# label = \"landcover\"\r\n",
    "feature_names = ['B1', 'B2', 'B3', 'B4', 'B5', 'B6', 'B7', 'NDWI', 'NDVI', 'MNDWI', 'NDBI', 'elevation']\r\n",
    "label = 'LULC'\r\n"
   ],
   "outputs": [],
   "metadata": {
    "id": "aByFeeGag4b_"
   }
  },
  {
   "cell_type": "code",
   "execution_count": 18,
   "source": [
    "df = band_df \r\n",
    "# Already divided by 20k and 10k"
   ],
   "outputs": [],
   "metadata": {
    "id": "eZXQJuuHhLeZ"
   }
  },
  {
   "cell_type": "code",
   "execution_count": 19,
   "source": [
    "X = df[feature_names].head(4200)\r\n",
    "y = df[label].head(4200)\r\n",
    "\r\n",
    "n_trees = 10 \r\n",
    "rf = ensemble.RandomForestClassifier(n_trees).fit(X,y)\r\n",
    "\r\n",
    "trees =  ml.rf_to_strings(rf,feature_names)\r\n",
    "\r\n",
    "# print the first tree to see the result\r\n",
    "# print(trees[0])\r\n",
    "# print(trees[1])\r\n",
    "\r\n",
    "ml.trees_to_csv(trees, \"trees_equal_class_4200.csv\")"
   ],
   "outputs": [],
   "metadata": {
    "id": "-XQbA9q9BLE5"
   }
  },
  {
   "cell_type": "code",
   "execution_count": 20,
   "source": [
    "rf.score(test_x, test_y)"
   ],
   "outputs": [
    {
     "output_type": "execute_result",
     "data": {
      "text/plain": [
       "0.7461528168071725"
      ]
     },
     "metadata": {},
     "execution_count": 20
    }
   ],
   "metadata": {}
  },
  {
   "cell_type": "code",
   "execution_count": 21,
   "source": [
    "# import time\r\n",
    "# for i in range(1000, 26000, 5000):\r\n",
    "\r\n",
    "#   start_time = time.time()\r\n",
    "\r\n",
    "#   X = df[feature_names].head(i)\r\n",
    "#   y = df[label].head(i)\r\n",
    "\r\n",
    "#   n_trees = 10 \r\n",
    "#   rf = ensemble.RandomForestClassifier(n_trees).fit(X,y)\r\n",
    "\r\n",
    "#   trees =  ml.rf_to_strings(rf,feature_names)\r\n",
    "\r\n",
    "#   # print the first tree to see the result\r\n",
    "#   # print(trees[0])\r\n",
    "#   # print(trees[1])\r\n",
    "\r\n",
    "#   ml.trees_to_csv(trees, \"trees\" + str(i) + \".csv\")\r\n",
    "#   print(\"Rows number: \", i , \"  %s seconds\" % (time.time() - start_time))"
   ],
   "outputs": [],
   "metadata": {
    "id": "RMkr49NBhSHp"
   }
  },
  {
   "cell_type": "code",
   "execution_count": null,
   "source": [],
   "outputs": [],
   "metadata": {}
  },
  {
   "cell_type": "code",
   "execution_count": 22,
   "source": [
    "# upload data to online for later use"
   ],
   "outputs": [],
   "metadata": {}
  },
  {
   "cell_type": "code",
   "execution_count": 24,
   "source": [
    "import geemap\r\n",
    "import ee,os\r\n",
    "os.environ['HTTP_PROXY'] = 'http://127.0.0.1:7890'\r\n",
    "os.environ['HTTPS_PROXY'] = 'http://127.0.0.1:7890'\r\n",
    "ee.Initialize()"
   ],
   "outputs": [],
   "metadata": {
    "id": "2cu0ffZShZUv"
   }
  },
  {
   "cell_type": "code",
   "execution_count": 25,
   "source": [
    "user_id = geemap.ee_user_id()"
   ],
   "outputs": [],
   "metadata": {
    "id": "qAoAX3_2hbFf"
   }
  },
  {
   "cell_type": "code",
   "execution_count": 26,
   "source": [
    "asset_id = user_id +  \"/random_forest_strings_equal_class\"\r\n",
    "asset_id"
   ],
   "outputs": [
    {
     "output_type": "execute_result",
     "data": {
      "text/plain": [
       "'users/wufvckshuo/random_forest_strings_equal_class'"
      ]
     },
     "metadata": {},
     "execution_count": 26
    }
   ],
   "metadata": {
    "id": "gmiTdX6Hh7sp"
   }
  },
  {
   "cell_type": "code",
   "execution_count": 27,
   "source": [
    "# kick off an export process so it will be saved to the ee asset\r\n",
    "ml.export_trees_to_fc(trees,asset_id)"
   ],
   "outputs": [],
   "metadata": {
    "id": "TMUAOq5onW3a"
   }
  },
  {
   "cell_type": "code",
   "execution_count": 28,
   "source": [
    "with open(\"trees_equal_class_4200.csv\", \"r\") as file1:\r\n",
    "    txxx = file1.read()\r\n",
    "    \r\n",
    "len(txxx)"
   ],
   "outputs": [
    {
     "output_type": "execute_result",
     "data": {
      "text/plain": [
       "831110"
      ]
     },
     "metadata": {},
     "execution_count": 28
    }
   ],
   "metadata": {}
  },
  {
   "cell_type": "code",
   "execution_count": null,
   "source": [],
   "outputs": [],
   "metadata": {}
  }
 ],
 "metadata": {
  "accelerator": "GPU",
  "colab": {
   "name": "04_Multinomial_Logistic_Regression.ipynb",
   "provenance": []
  },
  "kernelspec": {
   "name": "python3",
   "display_name": "Python 3.8.5 64-bit ('base': conda)"
  },
  "language_info": {
   "codemirror_mode": {
    "name": "ipython",
    "version": 3
   },
   "file_extension": ".py",
   "mimetype": "text/x-python",
   "name": "python",
   "nbconvert_exporter": "python",
   "pygments_lexer": "ipython3",
   "version": "3.8.5"
  },
  "interpreter": {
   "hash": "b3ba2566441a7c06988d0923437866b63cedc61552a5af99d1f4fb67d367b25f"
  }
 },
 "nbformat": 4,
 "nbformat_minor": 4
}