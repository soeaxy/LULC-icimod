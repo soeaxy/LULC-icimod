{
 "cells": [
  {
   "cell_type": "code",
   "execution_count": null,
   "source": [],
   "outputs": [],
   "metadata": {}
  },
  {
   "cell_type": "markdown",
   "source": [
    "# Multinomial Logistic Regression\n",
    "\n",
    "In this script we use multinomial logistic regression to predict the handwritten digits of the MNIST dataset."
   ],
   "metadata": {
    "id": "RLMhrwg-NRfy"
   }
  },
  {
   "cell_type": "code",
   "execution_count": null,
   "source": [
    "# !pip install geemap\r\n",
    "from geemap import ml"
   ],
   "outputs": [],
   "metadata": {
    "colab": {
     "base_uri": "https://localhost:8080/",
     "height": 1000
    },
    "id": "bR1_XFLZrfyD",
    "outputId": "985d14aa-4822-4de5-8e20-001ff361cfb4"
   }
  },
  {
   "cell_type": "code",
   "execution_count": null,
   "source": [
    "with open(\"use_files/landsatDataNP_import.csv\", \"r\") as csv_file:\r\n",
    "  data = csv_file.read()\r\n",
    "\r\n",
    "with open(\"use_files/landsatDataNP.csv\", \"w\") as csv_file:\r\n",
    "  csv_file.write(data)"
   ],
   "outputs": [],
   "metadata": {
    "id": "WO_QKf6zQLfD"
   }
  },
  {
   "cell_type": "code",
   "execution_count": null,
   "source": [
    "import pandas as pd\r\n",
    "land = pd.read_csv(\"use_files/landsatDataNP.csv\")\r\n",
    "land.head()"
   ],
   "outputs": [],
   "metadata": {
    "colab": {
     "base_uri": "https://localhost:8080/",
     "height": 224
    },
    "id": "pB1vN3-KQ8lg",
    "outputId": "af38cc03-0a76-43ad-d06f-9945342590c9"
   }
  },
  {
   "cell_type": "code",
   "execution_count": null,
   "source": [
    "import pandas as pd\r\n",
    "from sklearn.linear_model import LogisticRegression\r\n",
    "import matplotlib.pyplot as plt\r\n",
    "from sklearn.model_selection import train_test_split"
   ],
   "outputs": [],
   "metadata": {
    "id": "LB5WSy69R19w"
   }
  },
  {
   "cell_type": "code",
   "execution_count": null,
   "source": [
    "# first_row = ['ID', 'B1', 'B2', 'B3', 'B4', 'B5', 'B6', 'B7', 'NDWI', 'NDVI', 'MNDWI', 'NDBI', 'elevation', 'LULC']\r\n",
    "\r\n",
    "main_data = pd.read_csv('use_files/landsatDataNP.csv') \r\n",
    "# main_data = pd.read_csv('/content/landsatDataNP.csv', names = first_row) \r\n",
    "band_df = pd.DataFrame(main_data)\r\n",
    "# band_df.Class = band_df.Class - 1"
   ],
   "outputs": [],
   "metadata": {
    "id": "r4Ini2DYSG_A"
   }
  },
  {
   "cell_type": "code",
   "execution_count": null,
   "source": [
    "band_df.head()"
   ],
   "outputs": [],
   "metadata": {
    "colab": {
     "base_uri": "https://localhost:8080/",
     "height": 204
    },
    "id": "iZn574-pSJam",
    "outputId": "c9f723bb-0558-409c-bab1-cd51149abc8a"
   }
  },
  {
   "cell_type": "code",
   "execution_count": null,
   "source": [
    "# band_df[\"B1\"] = band_df[\"B1\"] .div(20000)\r\n",
    "# band_df[\"B2\"] = band_df[\"B2\"].div(20000)\r\n",
    "# band_df[\"B3\"] = band_df[\"B3\"].div(20000)\r\n",
    "# band_df[\"B4\"] = band_df[\"B4\"].div(20000)\r\n",
    "# band_df[\"B5\"] = band_df[\"B5\"].div(20000)\r\n",
    "# band_df[\"B6\"] = band_df[\"B6\"].div(20000)\r\n",
    "# band_df[\"B7\"] = band_df[\"B7\"].div(20000)\r\n",
    "# band_df[\"elevation\"] = band_df[\"elevation\"].div(10000)\r\n",
    "\r\n",
    "band_df[\"B1\"] = band_df[\"B1\"] \r\n",
    "band_df[\"B2\"] = band_df[\"B2\"]\r\n",
    "band_df[\"B3\"] = band_df[\"B3\"]\r\n",
    "band_df[\"B4\"] = band_df[\"B4\"]\r\n",
    "band_df[\"B5\"] = band_df[\"B5\"]\r\n",
    "band_df[\"B6\"] = band_df[\"B6\"]\r\n",
    "band_df[\"B7\"] = band_df[\"B7\"]\r\n",
    "band_df[\"elevation\"] = band_df[\"elevation\"]\r\n",
    "\r\n",
    "band_df"
   ],
   "outputs": [],
   "metadata": {
    "colab": {
     "base_uri": "https://localhost:8080/",
     "height": 439
    },
    "id": "rK4wgjwpWPSB",
    "outputId": "8ab808b1-0fd4-4f33-96ba-33c5ce474dd8"
   }
  },
  {
   "cell_type": "code",
   "execution_count": null,
   "source": [
    "Y = band_df.loc[:,'LULC'].values\r\n",
    "X = band_df.loc[:,'B1':'elevation'].values\r\n",
    "\r\n",
    "#we split the dataset into a test and training set\r\n",
    "train_x, test_x, train_y, test_y = train_test_split(X,Y , test_size=0.3, random_state=0)\r\n",
    "clf = LogisticRegression(solver='saga',multi_class='multinomial')\r\n"
   ],
   "outputs": [],
   "metadata": {
    "id": "wE_0NiDXSiQ6"
   }
  },
  {
   "cell_type": "code",
   "execution_count": null,
   "source": [
    "clf.fit(train_x, train_y)\r\n",
    "clf.score(test_x, test_y)"
   ],
   "outputs": [],
   "metadata": {
    "colab": {
     "base_uri": "https://localhost:8080/"
    },
    "id": "8SpPUbSdUg4g",
    "outputId": "2b5041d3-2018-4cce-d53d-f7e552247c80"
   }
  },
  {
   "cell_type": "code",
   "execution_count": null,
   "source": [
    "#Print model parameters\r\n",
    "print('Intercept: \\n', clf.intercept_)\r\n",
    "print('Coefficients: \\n', clf.coef_)"
   ],
   "outputs": [],
   "metadata": {
    "colab": {
     "base_uri": "https://localhost:8080/"
    },
    "id": "CJ7W2mAUWDAP",
    "outputId": "d26cffca-e7b3-4506-c895-5c67023fd287"
   }
  },
  {
   "cell_type": "markdown",
   "source": [
    "# Same thing again Ignore"
   ],
   "metadata": {
    "id": "8hWjTAHwbGUJ"
   }
  },
  {
   "cell_type": "code",
   "execution_count": null,
   "source": [
    "X_train, X_test, y_train, y_test = train_test_split(X, Y, test_size = 0.20, random_state = 5)\r\n",
    "print(X_train.shape)\r\n",
    "print(X_test.shape)\r\n",
    "print(y_train.shape)\r\n",
    "print(y_test.shape)"
   ],
   "outputs": [],
   "metadata": {
    "colab": {
     "base_uri": "https://localhost:8080/"
    },
    "id": "seuLM43wZnAH",
    "outputId": "3de04df5-ce5d-4110-eb02-0702df0e85e4"
   }
  },
  {
   "cell_type": "code",
   "execution_count": null,
   "source": [
    "# model1 = LogisticRegression(random_state=0, multi_class='multinomial', penalty='none', solver='newton-cg').fit(X_train, y_train)\r\n",
    "# preds = model1.predict(X_test)"
   ],
   "outputs": [],
   "metadata": {
    "id": "U2vrMiSiZqv7"
   }
  },
  {
   "cell_type": "code",
   "execution_count": null,
   "source": [
    "# model1.score(X_test, y_test)"
   ],
   "outputs": [],
   "metadata": {
    "colab": {
     "base_uri": "https://localhost:8080/"
    },
    "id": "jOdXBIttaje3",
    "outputId": "df74e2f0-4617-456a-a237-6f68740398f1"
   }
  },
  {
   "cell_type": "code",
   "execution_count": null,
   "source": [
    "#print the tunable parameters (They were not tuned in this example, everything kept as default)\r\n",
    "# params = model1.get_params()\r\n",
    "# print(params)"
   ],
   "outputs": [],
   "metadata": {
    "colab": {
     "base_uri": "https://localhost:8080/"
    },
    "id": "so1QWV0hZ2mE",
    "outputId": "e54d0e46-e120-4d06-efdc-3e2da95c6b77"
   }
  },
  {
   "cell_type": "code",
   "execution_count": null,
   "source": [
    "#Print model parameters\r\n",
    "# print('Intercept: \\n', model1.intercept_)\r\n",
    "# print('Coefficients: \\n', model1.coef_)"
   ],
   "outputs": [],
   "metadata": {
    "colab": {
     "base_uri": "https://localhost:8080/"
    },
    "id": "_uS_m1d-aeQj",
    "outputId": "96a734c0-a8cb-4d94-b440-9f5a7121159c"
   }
  },
  {
   "cell_type": "markdown",
   "source": [
    "# Random forest classifier"
   ],
   "metadata": {
    "id": "7yzrGIQ5g47d"
   }
  },
  {
   "cell_type": "code",
   "execution_count": null,
   "source": [
    "from sklearn import ensemble"
   ],
   "outputs": [],
   "metadata": {
    "id": "0B6NYqLRhfPQ"
   }
  },
  {
   "cell_type": "code",
   "execution_count": null,
   "source": [
    "# feature_names = ['B2', 'B3', 'B4', 'B5', 'B6', 'B7']\r\n",
    "# label = \"landcover\"\r\n",
    "feature_names = ['B1', 'B2', 'B3', 'B4', 'B5', 'B6', 'B7', 'NDWI', 'NDVI', 'MNDWI', 'NDBI', 'elevation']\r\n",
    "label = 'LULC'\r\n"
   ],
   "outputs": [],
   "metadata": {
    "id": "aByFeeGag4b_"
   }
  },
  {
   "cell_type": "code",
   "execution_count": null,
   "source": [
    "df = band_df \r\n",
    "# Already divided by 20k and 10k"
   ],
   "outputs": [],
   "metadata": {
    "id": "eZXQJuuHhLeZ"
   }
  },
  {
   "cell_type": "code",
   "execution_count": null,
   "source": [
    "X = df[feature_names].head(4200)\r\n",
    "y = df[label].head(4200)\r\n",
    "\r\n",
    "n_trees = 10 \r\n",
    "rf = ensemble.RandomForestClassifier(n_trees).fit(X,y)\r\n",
    "\r\n",
    "trees =  ml.rf_to_strings(rf,feature_names)\r\n",
    "\r\n",
    "# print the first tree to see the result\r\n",
    "# print(trees[0])\r\n",
    "# print(trees[1])\r\n",
    "\r\n",
    "ml.trees_to_csv(trees, \"trees_all_4200.csv\")"
   ],
   "outputs": [],
   "metadata": {
    "id": "-XQbA9q9BLE5"
   }
  },
  {
   "cell_type": "code",
   "execution_count": null,
   "source": [
    "rf.score(test_x, test_y)"
   ],
   "outputs": [],
   "metadata": {}
  },
  {
   "cell_type": "code",
   "execution_count": null,
   "source": [
    "# import time\r\n",
    "# for i in range(1000, 26000, 5000):\r\n",
    "\r\n",
    "#   start_time = time.time()\r\n",
    "\r\n",
    "#   X = df[feature_names].head(i)\r\n",
    "#   y = df[label].head(i)\r\n",
    "\r\n",
    "#   n_trees = 10 \r\n",
    "#   rf = ensemble.RandomForestClassifier(n_trees).fit(X,y)\r\n",
    "\r\n",
    "#   trees =  ml.rf_to_strings(rf,feature_names)\r\n",
    "\r\n",
    "#   # print the first tree to see the result\r\n",
    "#   # print(trees[0])\r\n",
    "#   # print(trees[1])\r\n",
    "\r\n",
    "#   ml.trees_to_csv(trees, \"trees\" + str(i) + \".csv\")\r\n",
    "#   print(\"Rows number: \", i , \"  %s seconds\" % (time.time() - start_time))"
   ],
   "outputs": [],
   "metadata": {
    "id": "RMkr49NBhSHp"
   }
  },
  {
   "cell_type": "code",
   "execution_count": null,
   "source": [
    "# upload data to online for later use"
   ],
   "outputs": [],
   "metadata": {}
  },
  {
   "cell_type": "code",
   "execution_count": null,
   "source": [
    "import geemap\r\n",
    "import ee, os\r\n",
    "\r\n",
    "os.environ['HTTP_PROXY'] = 'http://127.0.0.1:7890'\r\n",
    "os.environ['HTTPS_PROXY'] = 'http://127.0.0.1:7890'\r\n",
    "ee.Initialize()"
   ],
   "outputs": [],
   "metadata": {
    "id": "2cu0ffZShZUv"
   }
  },
  {
   "cell_type": "code",
   "execution_count": null,
   "source": [
    "user_id = geemap.ee_user_id()"
   ],
   "outputs": [],
   "metadata": {
    "id": "qAoAX3_2hbFf"
   }
  },
  {
   "cell_type": "code",
   "execution_count": null,
   "source": [
    "asset_id = user_id +  \"/random_forest_strings_test\"\r\n",
    "asset_id"
   ],
   "outputs": [],
   "metadata": {
    "id": "gmiTdX6Hh7sp"
   }
  },
  {
   "cell_type": "code",
   "execution_count": null,
   "source": [
    "# kick off an export process so it will be saved to the ee asset\r\n",
    "ml.export_trees_to_fc(trees,asset_id)"
   ],
   "outputs": [],
   "metadata": {
    "id": "TMUAOq5onW3a"
   }
  },
  {
   "cell_type": "code",
   "execution_count": null,
   "source": [
    "with open(\"trees_all_4200.csv\", \"r\") as file1:\r\n",
    "    txxx = file1.read()\r\n",
    "    \r\n",
    "len(txxx)"
   ],
   "outputs": [],
   "metadata": {}
  },
  {
   "cell_type": "code",
   "execution_count": 65,
   "source": [
    "import geemap\r\n",
    "import ee, os\r\n",
    "\r\n",
    "os.environ['HTTP_PROXY'] = 'http://127.0.0.1:7890'\r\n",
    "os.environ['HTTPS_PROXY'] = 'http://127.0.0.1:7890'\r\n",
    "ee.Initialize()\r\n",
    "Map = geemap.Map(center=[40,-100], zoom=4)\r\n",
    "# Add Earth Engine dataset\r\n",
    "# Input imagery is a cloud-free Landsat 8 composite.\r\n",
    "l8 = ee.ImageCollection('LANDSAT/LC08/C01/T1')\r\n",
    "\r\n",
    "image = ee.Algorithms.Landsat.simpleComposite(**{\r\n",
    "  'collection': l8.filterDate('2018-01-01', '2018-12-31'),\r\n",
    "  'asFloat': True\r\n",
    "})\r\n",
    "\r\n",
    "esri_lulc10 = ee.ImageCollection(\"projects/sat-io/open-datasets/landcover/ESRI_Global-LULC_10m\").median().rename('b1')\r\n",
    "# Use these bands for prediction.\r\n",
    "bands = ['B2', 'B3', 'B4', 'B5', 'B6', 'B7', 'B10', 'B11']\r\n",
    "\r\n",
    "# Load training points. The numeric property 'class' stores known labels.\r\n",
    "points = ee.FeatureCollection('GOOGLE/EE/DEMOS/demo_landcover_labels')\r\n",
    "geemap.extract_values_to_points(points, esri_lulc10, scale = 30)\r\n",
    "\r\n",
    "# This property of the table stores the land cover labels.\r\n",
    "label = 'b1'\r\n",
    "\r\n",
    "# Overlay the points on the imagery to get training.\r\n",
    "\r\n",
    "training = esri_lulc10.addBands(image).sample({\r\n",
    "  'scale': 30,\r\n",
    "  'numPixels': 1000\r\n",
    "})\r\n",
    "\r\n",
    "# training = image.select(bands).addBands(esri_lulc10).sampleRegions(**{\r\n",
    "#   'collection': points,\r\n",
    "#   'properties': [label],\r\n",
    "#   'scale': 30\r\n",
    "# })\r\n",
    "\r\n",
    "# Train a CART classifier with default parameters.\r\n",
    "trained = ee.Classifier.smileCart().train(training, label, bands)\r\n",
    "\r\n",
    "# Classify the image with the same bands used for training.\r\n",
    "classified = image.select(bands).classify(trained)\r\n",
    "\r\n",
    "# Display the inputs and the results.\r\n",
    "Map.centerObject(points, 11)\r\n",
    "Map.addLayer(image, {'bands': ['B4', 'B3', 'B2'], 'max': 0.4}, 'image')\r\n",
    "Map.addLayer(classified,\r\n",
    "             {'min': 0, 'max': 2, 'palette': ['red', 'green', 'blue']},\r\n",
    "             'classification')\r\n",
    "Map.addLayerControl() # This line is not needed for ipyleaflet-based Map.\r\n"
   ],
   "outputs": [
    {
     "output_type": "error",
     "ename": "EEException",
     "evalue": "Invalid GeoJSON geometry.",
     "traceback": [
      "\u001b[1;31m---------------------------------------------------------------------------\u001b[0m",
      "\u001b[1;31mEEException\u001b[0m                               Traceback (most recent call last)",
      "\u001b[1;32m<ipython-input-65-180110285732>\u001b[0m in \u001b[0;36m<module>\u001b[1;34m\u001b[0m\n\u001b[0;32m     28\u001b[0m \u001b[1;31m# Overlay the points on the imagery to get training.\u001b[0m\u001b[1;33m\u001b[0m\u001b[1;33m\u001b[0m\u001b[1;33m\u001b[0m\u001b[0m\n\u001b[0;32m     29\u001b[0m \u001b[1;33m\u001b[0m\u001b[0m\n\u001b[1;32m---> 30\u001b[1;33m training = esri_lulc10.addBands(image).sample({\n\u001b[0m\u001b[0;32m     31\u001b[0m   \u001b[1;34m'scale'\u001b[0m\u001b[1;33m:\u001b[0m \u001b[1;36m30\u001b[0m\u001b[1;33m,\u001b[0m\u001b[1;33m\u001b[0m\u001b[1;33m\u001b[0m\u001b[0m\n\u001b[0;32m     32\u001b[0m   \u001b[1;34m'numPixels'\u001b[0m\u001b[1;33m:\u001b[0m \u001b[1;36m1000\u001b[0m\u001b[1;33m\u001b[0m\u001b[1;33m\u001b[0m\u001b[0m\n",
      "\u001b[1;32mC:\\ProgramData\\Anaconda3\\lib\\site-packages\\ee\\apifunction.py\u001b[0m in \u001b[0;36m<lambda>\u001b[1;34m(*args, **kwargs)\u001b[0m\n\u001b[0;32m    203\u001b[0m         \u001b[1;32mdef\u001b[0m \u001b[0mMakeBoundFunction\u001b[0m\u001b[1;33m(\u001b[0m\u001b[0mfunc\u001b[0m\u001b[1;33m)\u001b[0m\u001b[1;33m:\u001b[0m\u001b[1;33m\u001b[0m\u001b[1;33m\u001b[0m\u001b[0m\n\u001b[0;32m    204\u001b[0m           \u001b[1;31m# We need the lambda to capture \"func\" from the enclosing scope.\u001b[0m\u001b[1;33m\u001b[0m\u001b[1;33m\u001b[0m\u001b[1;33m\u001b[0m\u001b[0m\n\u001b[1;32m--> 205\u001b[1;33m           \u001b[1;32mreturn\u001b[0m \u001b[1;32mlambda\u001b[0m \u001b[1;33m*\u001b[0m\u001b[0margs\u001b[0m\u001b[1;33m,\u001b[0m \u001b[1;33m**\u001b[0m\u001b[0mkwargs\u001b[0m\u001b[1;33m:\u001b[0m \u001b[0mfunc\u001b[0m\u001b[1;33m.\u001b[0m\u001b[0mcall\u001b[0m\u001b[1;33m(\u001b[0m\u001b[1;33m*\u001b[0m\u001b[0margs\u001b[0m\u001b[1;33m,\u001b[0m \u001b[1;33m**\u001b[0m\u001b[0mkwargs\u001b[0m\u001b[1;33m)\u001b[0m  \u001b[1;31m# pylint: disable=unnecessary-lambda\u001b[0m\u001b[1;33m\u001b[0m\u001b[1;33m\u001b[0m\u001b[0m\n\u001b[0m\u001b[0;32m    206\u001b[0m         \u001b[0mbound_function\u001b[0m \u001b[1;33m=\u001b[0m \u001b[0mMakeBoundFunction\u001b[0m\u001b[1;33m(\u001b[0m\u001b[0mapi_func\u001b[0m\u001b[1;33m)\u001b[0m\u001b[1;33m\u001b[0m\u001b[1;33m\u001b[0m\u001b[0m\n\u001b[0;32m    207\u001b[0m \u001b[1;33m\u001b[0m\u001b[0m\n",
      "\u001b[1;32mC:\\ProgramData\\Anaconda3\\lib\\site-packages\\ee\\function.py\u001b[0m in \u001b[0;36mcall\u001b[1;34m(self, *args, **kwargs)\u001b[0m\n\u001b[0;32m     65\u001b[0m       \u001b[0mto\u001b[0m \u001b[0mthat\u001b[0m \u001b[0mtype\u001b[0m\u001b[1;33m.\u001b[0m\u001b[1;33m\u001b[0m\u001b[1;33m\u001b[0m\u001b[0m\n\u001b[0;32m     66\u001b[0m     \"\"\"\n\u001b[1;32m---> 67\u001b[1;33m     \u001b[1;32mreturn\u001b[0m \u001b[0mself\u001b[0m\u001b[1;33m.\u001b[0m\u001b[0mapply\u001b[0m\u001b[1;33m(\u001b[0m\u001b[0mself\u001b[0m\u001b[1;33m.\u001b[0m\u001b[0mnameArgs\u001b[0m\u001b[1;33m(\u001b[0m\u001b[0margs\u001b[0m\u001b[1;33m,\u001b[0m \u001b[0mkwargs\u001b[0m\u001b[1;33m)\u001b[0m\u001b[1;33m)\u001b[0m\u001b[1;33m\u001b[0m\u001b[1;33m\u001b[0m\u001b[0m\n\u001b[0m\u001b[0;32m     68\u001b[0m \u001b[1;33m\u001b[0m\u001b[0m\n\u001b[0;32m     69\u001b[0m   \u001b[1;32mdef\u001b[0m \u001b[0mapply\u001b[0m\u001b[1;33m(\u001b[0m\u001b[0mself\u001b[0m\u001b[1;33m,\u001b[0m \u001b[0mnamed_args\u001b[0m\u001b[1;33m)\u001b[0m\u001b[1;33m:\u001b[0m\u001b[1;33m\u001b[0m\u001b[1;33m\u001b[0m\u001b[0m\n",
      "\u001b[1;32mC:\\ProgramData\\Anaconda3\\lib\\site-packages\\ee\\function.py\u001b[0m in \u001b[0;36mapply\u001b[1;34m(self, named_args)\u001b[0m\n\u001b[0;32m     78\u001b[0m       \u001b[0mto\u001b[0m \u001b[0mthat\u001b[0m \u001b[0mtype\u001b[0m\u001b[1;33m.\u001b[0m\u001b[1;33m\u001b[0m\u001b[1;33m\u001b[0m\u001b[0m\n\u001b[0;32m     79\u001b[0m     \"\"\"\n\u001b[1;32m---> 80\u001b[1;33m     \u001b[0mresult\u001b[0m \u001b[1;33m=\u001b[0m \u001b[0mcomputedobject\u001b[0m\u001b[1;33m.\u001b[0m\u001b[0mComputedObject\u001b[0m\u001b[1;33m(\u001b[0m\u001b[0mself\u001b[0m\u001b[1;33m,\u001b[0m \u001b[0mself\u001b[0m\u001b[1;33m.\u001b[0m\u001b[0mpromoteArgs\u001b[0m\u001b[1;33m(\u001b[0m\u001b[0mnamed_args\u001b[0m\u001b[1;33m)\u001b[0m\u001b[1;33m)\u001b[0m\u001b[1;33m\u001b[0m\u001b[1;33m\u001b[0m\u001b[0m\n\u001b[0m\u001b[0;32m     81\u001b[0m     \u001b[1;32mreturn\u001b[0m \u001b[0mFunction\u001b[0m\u001b[1;33m.\u001b[0m\u001b[0m_promoter\u001b[0m\u001b[1;33m(\u001b[0m\u001b[0mresult\u001b[0m\u001b[1;33m,\u001b[0m \u001b[0mself\u001b[0m\u001b[1;33m.\u001b[0m\u001b[0mgetReturnType\u001b[0m\u001b[1;33m(\u001b[0m\u001b[1;33m)\u001b[0m\u001b[1;33m)\u001b[0m\u001b[1;33m\u001b[0m\u001b[1;33m\u001b[0m\u001b[0m\n\u001b[0;32m     82\u001b[0m \u001b[1;33m\u001b[0m\u001b[0m\n",
      "\u001b[1;32mC:\\ProgramData\\Anaconda3\\lib\\site-packages\\ee\\function.py\u001b[0m in \u001b[0;36mpromoteArgs\u001b[1;34m(self, args)\u001b[0m\n\u001b[0;32m    105\u001b[0m       \u001b[0mname\u001b[0m \u001b[1;33m=\u001b[0m \u001b[0mspec\u001b[0m\u001b[1;33m[\u001b[0m\u001b[1;34m'name'\u001b[0m\u001b[1;33m]\u001b[0m\u001b[1;33m\u001b[0m\u001b[1;33m\u001b[0m\u001b[0m\n\u001b[0;32m    106\u001b[0m       \u001b[1;32mif\u001b[0m \u001b[0mname\u001b[0m \u001b[1;32min\u001b[0m \u001b[0margs\u001b[0m\u001b[1;33m:\u001b[0m\u001b[1;33m\u001b[0m\u001b[1;33m\u001b[0m\u001b[0m\n\u001b[1;32m--> 107\u001b[1;33m         \u001b[0mpromoted_args\u001b[0m\u001b[1;33m[\u001b[0m\u001b[0mname\u001b[0m\u001b[1;33m]\u001b[0m \u001b[1;33m=\u001b[0m \u001b[0mFunction\u001b[0m\u001b[1;33m.\u001b[0m\u001b[0m_promoter\u001b[0m\u001b[1;33m(\u001b[0m\u001b[0margs\u001b[0m\u001b[1;33m[\u001b[0m\u001b[0mname\u001b[0m\u001b[1;33m]\u001b[0m\u001b[1;33m,\u001b[0m \u001b[0mspec\u001b[0m\u001b[1;33m[\u001b[0m\u001b[1;34m'type'\u001b[0m\u001b[1;33m]\u001b[0m\u001b[1;33m)\u001b[0m\u001b[1;33m\u001b[0m\u001b[1;33m\u001b[0m\u001b[0m\n\u001b[0m\u001b[0;32m    108\u001b[0m       \u001b[1;32melif\u001b[0m \u001b[1;32mnot\u001b[0m \u001b[0mspec\u001b[0m\u001b[1;33m.\u001b[0m\u001b[0mget\u001b[0m\u001b[1;33m(\u001b[0m\u001b[1;34m'optional'\u001b[0m\u001b[1;33m)\u001b[0m\u001b[1;33m:\u001b[0m\u001b[1;33m\u001b[0m\u001b[1;33m\u001b[0m\u001b[0m\n\u001b[0;32m    109\u001b[0m         raise ee_exception.EEException(\n",
      "\u001b[1;32mC:\\ProgramData\\Anaconda3\\lib\\site-packages\\ee\\__init__.py\u001b[0m in \u001b[0;36m_Promote\u001b[1;34m(arg, klass)\u001b[0m\n\u001b[0;32m    222\u001b[0m       \u001b[1;32mreturn\u001b[0m \u001b[0mApiFunction\u001b[0m\u001b[1;33m.\u001b[0m\u001b[0mcall_\u001b[0m\u001b[1;33m(\u001b[0m\u001b[1;34m'Collection.geometry'\u001b[0m\u001b[1;33m,\u001b[0m \u001b[0marg\u001b[0m\u001b[1;33m)\u001b[0m\u001b[1;33m\u001b[0m\u001b[1;33m\u001b[0m\u001b[0m\n\u001b[0;32m    223\u001b[0m     \u001b[1;32melse\u001b[0m\u001b[1;33m:\u001b[0m\u001b[1;33m\u001b[0m\u001b[1;33m\u001b[0m\u001b[0m\n\u001b[1;32m--> 224\u001b[1;33m       \u001b[1;32mreturn\u001b[0m \u001b[0mGeometry\u001b[0m\u001b[1;33m(\u001b[0m\u001b[0marg\u001b[0m\u001b[1;33m)\u001b[0m\u001b[1;33m\u001b[0m\u001b[1;33m\u001b[0m\u001b[0m\n\u001b[0m\u001b[0;32m    225\u001b[0m   \u001b[1;32melif\u001b[0m \u001b[0mklass\u001b[0m \u001b[1;32min\u001b[0m \u001b[1;33m(\u001b[0m\u001b[1;34m'FeatureCollection'\u001b[0m\u001b[1;33m,\u001b[0m \u001b[1;34m'Collection'\u001b[0m\u001b[1;33m)\u001b[0m\u001b[1;33m:\u001b[0m\u001b[1;33m\u001b[0m\u001b[1;33m\u001b[0m\u001b[0m\n\u001b[0;32m    226\u001b[0m     \u001b[1;31m# For now Collection is synonymous with FeatureCollection.\u001b[0m\u001b[1;33m\u001b[0m\u001b[1;33m\u001b[0m\u001b[1;33m\u001b[0m\u001b[0m\n",
      "\u001b[1;32mC:\\ProgramData\\Anaconda3\\lib\\site-packages\\ee\\computedobject.py\u001b[0m in \u001b[0;36m__call__\u001b[1;34m(cls, *args, **kwargs)\u001b[0m\n\u001b[0;32m     30\u001b[0m       \u001b[1;32mreturn\u001b[0m \u001b[0margs\u001b[0m\u001b[1;33m[\u001b[0m\u001b[1;36m0\u001b[0m\u001b[1;33m]\u001b[0m\u001b[1;33m\u001b[0m\u001b[1;33m\u001b[0m\u001b[0m\n\u001b[0;32m     31\u001b[0m     \u001b[1;32melse\u001b[0m\u001b[1;33m:\u001b[0m\u001b[1;33m\u001b[0m\u001b[1;33m\u001b[0m\u001b[0m\n\u001b[1;32m---> 32\u001b[1;33m       \u001b[1;32mreturn\u001b[0m \u001b[0mtype\u001b[0m\u001b[1;33m.\u001b[0m\u001b[0m__call__\u001b[0m\u001b[1;33m(\u001b[0m\u001b[0mcls\u001b[0m\u001b[1;33m,\u001b[0m \u001b[1;33m*\u001b[0m\u001b[0margs\u001b[0m\u001b[1;33m,\u001b[0m \u001b[1;33m**\u001b[0m\u001b[0mkwargs\u001b[0m\u001b[1;33m)\u001b[0m\u001b[1;33m\u001b[0m\u001b[1;33m\u001b[0m\u001b[0m\n\u001b[0m\u001b[0;32m     33\u001b[0m \u001b[1;33m\u001b[0m\u001b[0m\n\u001b[0;32m     34\u001b[0m \u001b[1;33m\u001b[0m\u001b[0m\n",
      "\u001b[1;32mC:\\ProgramData\\Anaconda3\\lib\\site-packages\\ee\\geometry.py\u001b[0m in \u001b[0;36m__init__\u001b[1;34m(self, geo_json, opt_proj, opt_geodesic, opt_evenOdd)\u001b[0m\n\u001b[0;32m     82\u001b[0m \u001b[1;33m\u001b[0m\u001b[0m\n\u001b[0;32m     83\u001b[0m     \u001b[1;32mif\u001b[0m \u001b[1;32mnot\u001b[0m \u001b[0mGeometry\u001b[0m\u001b[1;33m.\u001b[0m\u001b[0m_isValidGeometry\u001b[0m\u001b[1;33m(\u001b[0m\u001b[0mgeo_json\u001b[0m\u001b[1;33m)\u001b[0m\u001b[1;33m:\u001b[0m\u001b[1;33m\u001b[0m\u001b[1;33m\u001b[0m\u001b[0m\n\u001b[1;32m---> 84\u001b[1;33m       \u001b[1;32mraise\u001b[0m \u001b[0mee_exception\u001b[0m\u001b[1;33m.\u001b[0m\u001b[0mEEException\u001b[0m\u001b[1;33m(\u001b[0m\u001b[1;34m'Invalid GeoJSON geometry.'\u001b[0m\u001b[1;33m)\u001b[0m\u001b[1;33m\u001b[0m\u001b[1;33m\u001b[0m\u001b[0m\n\u001b[0m\u001b[0;32m     85\u001b[0m \u001b[1;33m\u001b[0m\u001b[0m\n\u001b[0;32m     86\u001b[0m     \u001b[0msuper\u001b[0m\u001b[1;33m(\u001b[0m\u001b[0mGeometry\u001b[0m\u001b[1;33m,\u001b[0m \u001b[0mself\u001b[0m\u001b[1;33m)\u001b[0m\u001b[1;33m.\u001b[0m\u001b[0m__init__\u001b[0m\u001b[1;33m(\u001b[0m\u001b[1;32mNone\u001b[0m\u001b[1;33m,\u001b[0m \u001b[1;32mNone\u001b[0m\u001b[1;33m)\u001b[0m\u001b[1;33m\u001b[0m\u001b[1;33m\u001b[0m\u001b[0m\n",
      "\u001b[1;31mEEException\u001b[0m: Invalid GeoJSON geometry."
     ]
    }
   ],
   "metadata": {}
  },
  {
   "cell_type": "code",
   "execution_count": 59,
   "source": [
    "Map"
   ],
   "outputs": [
    {
     "output_type": "display_data",
     "data": {
      "text/plain": [
       "Map(center=[37.778253523653376, -122.37538216245599], controls=(WidgetControl(options=['position', 'transparen…"
      ],
      "application/vnd.jupyter.widget-view+json": {
       "version_major": 2,
       "version_minor": 0,
       "model_id": "b4d0d44c71394aca8206c73cd7e77d97"
      }
     },
     "metadata": {}
    }
   ],
   "metadata": {}
  }
 ],
 "metadata": {
  "accelerator": "GPU",
  "colab": {
   "name": "04_Multinomial_Logistic_Regression.ipynb",
   "provenance": []
  },
  "kernelspec": {
   "name": "python3",
   "display_name": "Python 3.8.5 64-bit ('base': conda)"
  },
  "language_info": {
   "codemirror_mode": {
    "name": "ipython",
    "version": 3
   },
   "file_extension": ".py",
   "mimetype": "text/x-python",
   "name": "python",
   "nbconvert_exporter": "python",
   "pygments_lexer": "ipython3",
   "version": "3.8.5"
  },
  "interpreter": {
   "hash": "b3ba2566441a7c06988d0923437866b63cedc61552a5af99d1f4fb67d367b25f"
  }
 },
 "nbformat": 4,
 "nbformat_minor": 4
}